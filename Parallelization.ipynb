{
 "cells": [
  {
   "cell_type": "markdown",
   "metadata": {},
   "source": [
    "# Parallelization of IDA*"
   ]
  },
  {
   "cell_type": "markdown",
   "metadata": {},
   "source": [
    "## Start Cluster"
   ]
  },
  {
   "cell_type": "code",
   "execution_count": 2,
   "metadata": {},
   "outputs": [
    {
     "name": "stdout",
     "output_type": "stream",
     "text": [
      "Starting 4 engines with <class 'ipyparallel.cluster.launcher.MPIEngineSetLauncher'>\n"
     ]
    },
    {
     "data": {
      "text/plain": [
       "<Cluster(cluster_id='1647865219-201z', profile='default', controller=<running>, engine_sets=['1647865220'])>"
      ]
     },
     "execution_count": 2,
     "metadata": {},
     "output_type": "execute_result"
    }
   ],
   "source": [
    "import ipyparallel as ipp\n",
    "cluster = ipp.Cluster(engines='mpi', n=4)\n",
    "cluster.start_cluster_sync()"
   ]
  },
  {
   "cell_type": "markdown",
   "metadata": {},
   "source": [
    "## View"
   ]
  },
  {
   "cell_type": "code",
   "execution_count": 3,
   "metadata": {},
   "outputs": [
    {
     "name": "stdout",
     "output_type": "stream",
     "text": [
      "100%|██████████| 4/4 [00:08<00:00,  2.13s/engine]\n"
     ]
    },
    {
     "data": {
      "text/plain": [
       "<DirectView [0, 1, 2, 3]>"
      ]
     },
     "execution_count": 3,
     "metadata": {},
     "output_type": "execute_result"
    }
   ],
   "source": [
    "rc = cluster.connect_client_sync()\n",
    "rc.wait_for_engines(4)\n",
    "dview = rc[:]\n",
    "dview"
   ]
  },
  {
   "cell_type": "markdown",
   "metadata": {},
   "source": [
    "## Dependencies"
   ]
  },
  {
   "cell_type": "code",
   "execution_count": 4,
   "metadata": {},
   "outputs": [],
   "source": [
    "%%px\n",
    "import numpy as np\n",
    "import json\n",
    "from datetime import datetime"
   ]
  },
  {
   "cell_type": "markdown",
   "metadata": {},
   "source": [
    "## Read Data"
   ]
  },
  {
   "cell_type": "code",
   "execution_count": 5,
   "metadata": {},
   "outputs": [],
   "source": [
    "%%px\n",
    "def string2duration(string):\n",
    "    ''' \"01:50:19.3177493\" to duration in seconds'''\n",
    "    date =  datetime.strptime(string.split('.')[0], \"%H:%M:%S\")\n",
    "    return date.second + 60*date.minute + 3600*date.hour"
   ]
  },
  {
   "cell_type": "code",
   "execution_count": 6,
   "metadata": {},
   "outputs": [],
   "source": [
    "%%px\n",
    "def read_data(path):\n",
    "    global task_count\n",
    "    global data\n",
    "    global tasks\n",
    "    file = open(path)\n",
    "    data = json.load(file)\n",
    "    tasks = data['nodes']\n",
    "    for task in tasks:\n",
    "        tasks[task]['Data'] = string2duration(tasks[task]['Data'])\n",
    "    task_count = len(tasks)"
   ]
  },
  {
   "cell_type": "markdown",
   "metadata": {},
   "source": [
    "## Node Class"
   ]
  },
  {
   "cell_type": "code",
   "execution_count": 7,
   "metadata": {},
   "outputs": [],
   "source": [
    "%%px\n",
    "class Node():\n",
    "    def __init__(self, id = '', cost = 0):\n",
    "        self.children = []\n",
    "        self.parents = []\n",
    "        self.id = id\n",
    "        self.cost = cost\n",
    "    \n",
    "    def successors(self):\n",
    "        return sorted(self.children, key=lambda n: h(n))\n",
    "    \n",
    "    def is_goal(self):\n",
    "        return self.id == 'GOAL'"
   ]
  },
  {
   "cell_type": "markdown",
   "metadata": {},
   "source": [
    "## Graph Class"
   ]
  },
  {
   "cell_type": "code",
   "execution_count": 8,
   "metadata": {},
   "outputs": [],
   "source": [
    "%%px\n",
    "class Graph():\n",
    "    def __init__(self, graph):\n",
    "        self.nodes = {}\n",
    "        self.roots = []\n",
    "        self.load(graph)\n",
    "        print(list(self.nodes)[-1])\n",
    "    \n",
    "    def load(self, graph):\n",
    "        for id in graph.keys():\n",
    "            try:\n",
    "                node = self.nodes[id]\n",
    "            except:\n",
    "                node = Node(id, graph[id]['Data'])\n",
    "            \n",
    "            if len(graph[id]['Dependencies']) == 0:\n",
    "                node.isTerminal = False\n",
    "                self.roots.append(node)\n",
    "            else:\n",
    "                for parent in graph[id]['Dependencies']:\n",
    "                    try:\n",
    "                        parent_node = self.nodes[str(parent)]\n",
    "                    except:\n",
    "                        self.nodes[str(parent)] = Node(str(parent), graph[str(parent)]['Data'])\n",
    "                        parent_node = self.nodes[str(parent)]\n",
    "                        \n",
    "                    parent_node.children.append(node)\n",
    "                    node.parents.append(parent_node)\n",
    "\n",
    "            self.nodes[id] = node"
   ]
  },
  {
   "cell_type": "markdown",
   "metadata": {},
   "source": [
    "## Heuristic"
   ]
  },
  {
   "cell_type": "code",
   "execution_count": 9,
   "metadata": {},
   "outputs": [],
   "source": [
    "%%px\n",
    "def h(n):\n",
    "    return 1"
   ]
  },
  {
   "cell_type": "markdown",
   "metadata": {},
   "source": [
    "## Search"
   ]
  },
  {
   "cell_type": "code",
   "execution_count": 10,
   "metadata": {},
   "outputs": [],
   "source": [
    "%%px\n",
    "def search(path, g, bound, goal):\n",
    "    node = path[-1]\n",
    "    f = g + h(node)\n",
    "    if f > bound:\n",
    "        return f\n",
    "    if node.id == goal:\n",
    "        return [node.id]\n",
    "    minimum = np.inf\n",
    "    for succ in node.successors():\n",
    "        if succ not in path:\n",
    "            path.append(succ)\n",
    "            t = search(path, g + succ.cost, bound, goal)\n",
    "            if isinstance(t, list):\n",
    "                return [node.id] + t\n",
    "            elif t < minimum:\n",
    "                minimum = t\n",
    "            path.pop()\n",
    "    return minimum"
   ]
  },
  {
   "cell_type": "markdown",
   "metadata": {},
   "source": [
    "## IDA*"
   ]
  },
  {
   "cell_type": "code",
   "execution_count": 11,
   "metadata": {},
   "outputs": [],
   "source": [
    "%%px\n",
    "def ida_star(root, goal):\n",
    "    bound = np.inf\n",
    "    path = [root]\n",
    "    t = search(path, root.cost, bound, goal)\n",
    "    if isinstance(t, list):\n",
    "        return t\n",
    "    return 'Not found'"
   ]
  },
  {
   "cell_type": "markdown",
   "metadata": {},
   "source": [
    "## Load Data"
   ]
  },
  {
   "cell_type": "code",
   "execution_count": 12,
   "metadata": {},
   "outputs": [],
   "source": [
    "%%px\n",
    "read_data(\"Graphs/smallComplex.json\")"
   ]
  },
  {
   "cell_type": "markdown",
   "metadata": {},
   "source": [
    "## Load Graph"
   ]
  },
  {
   "cell_type": "code",
   "execution_count": 13,
   "metadata": {},
   "outputs": [
    {
     "data": {
      "text/plain": [
       "[stdout:1] 3538\n"
      ]
     },
     "metadata": {},
     "output_type": "display_data"
    },
    {
     "data": {
      "text/plain": [
       "[stdout:3] 3538\n"
      ]
     },
     "metadata": {},
     "output_type": "display_data"
    },
    {
     "data": {
      "text/plain": [
       "[stdout:2] 3538\n"
      ]
     },
     "metadata": {},
     "output_type": "display_data"
    },
    {
     "data": {
      "text/plain": [
       "[stdout:0] 3538\n"
      ]
     },
     "metadata": {},
     "output_type": "display_data"
    }
   ],
   "source": [
    "%%px\n",
    "graph = Graph(tasks)"
   ]
  },
  {
   "cell_type": "markdown",
   "metadata": {},
   "source": [
    "## Launch IDA*"
   ]
  },
  {
   "cell_type": "code",
   "execution_count": 14,
   "metadata": {},
   "outputs": [
    {
     "name": "stdout",
     "output_type": "stream",
     "text": [
      "%px:   0%|          | 0/4 [00:00<?, ?tasks/s]"
     ]
    },
    {
     "data": {
      "text/plain": [
       "[stdout:0] ['2365', '3532', '3538']\n"
      ]
     },
     "metadata": {},
     "output_type": "display_data"
    },
    {
     "data": {
      "text/plain": [
       "[stdout:1] ['2365', '3532', '3538']\n"
      ]
     },
     "metadata": {},
     "output_type": "display_data"
    },
    {
     "data": {
      "text/plain": [
       "[stdout:3] ['2365', '3532', '3538']\n"
      ]
     },
     "metadata": {},
     "output_type": "display_data"
    },
    {
     "data": {
      "text/plain": [
       "[stdout:2] ['2365', '3532', '3538']\n"
      ]
     },
     "metadata": {},
     "output_type": "display_data"
    },
    {
     "name": "stdout",
     "output_type": "stream",
     "text": [
      "%px: 100%|██████████| 4/4 [00:00<00:00, 38.04tasks/s]\n"
     ]
    }
   ],
   "source": [
    "%%px\n",
    "path = ida_star(graph.roots[0], '3538')\n",
    "print(path)"
   ]
  },
  {
   "cell_type": "markdown",
   "metadata": {},
   "source": [
    "## Shutdown Cluster"
   ]
  },
  {
   "cell_type": "code",
   "execution_count": 15,
   "metadata": {},
   "outputs": [
    {
     "name": "stdout",
     "output_type": "stream",
     "text": [
      "Stopping controller\n",
      "Failed to remove C:\\Users\\Oussama Janaheddine\\.ipython\\profile_default\\log\\ipcontroller-1647865219-201z-12692.log: [WinError 2] Le fichier spécifié est introuvable: 'C:\\\\Users\\\\Oussama Janaheddine\\\\.ipython\\\\profile_default\\\\log\\\\ipcontroller-1647865219-201z-12692.log'\n",
      "Controller stopped: {'exit_code': 1, 'pid': 8552, 'identifier': 'ipcontroller-1647865219-201z-12692'}\n",
      "Stopping engine(s): 1647865220\n",
      "Failed to remove C:\\Users\\Oussama Janaheddine\\.ipython\\profile_default\\log\\ipengine-1647865219-201z-1647865220-12692.log: [WinError 32] Le processus ne peut pas accéder au fichier car ce fichier est utilisé par un autre processus: 'C:\\\\Users\\\\Oussama Janaheddine\\\\.ipython\\\\profile_default\\\\log\\\\ipengine-1647865219-201z-1647865220-12692.log'\n",
      "Failed to remove C:\\Users\\Oussama Janaheddine\\.ipython\\profile_default\\log\\ipengine-1647865219-201z-1647865220-12692.log: [WinError 32] Le processus ne peut pas accéder au fichier car ce fichier est utilisé par un autre processus: 'C:\\\\Users\\\\Oussama Janaheddine\\\\.ipython\\\\profile_default\\\\log\\\\ipengine-1647865219-201z-1647865220-12692.log'\n",
      "engine set stopped 1647865220: {'exit_code': 1, 'pid': 6528, 'identifier': 'ipengine-1647865219-201z-1647865220-12692'}\n"
     ]
    }
   ],
   "source": [
    "await cluster.stop_cluster()"
   ]
  }
 ],
 "metadata": {
  "interpreter": {
   "hash": "fe6933227b6ff62866ee779fb700ff9b140c0fa454ba86f0194dc57655bf90d0"
  },
  "kernelspec": {
   "display_name": "Python 3.9.10 ('ipyparallel')",
   "language": "python",
   "name": "python3"
  },
  "language_info": {
   "codemirror_mode": {
    "name": "ipython",
    "version": 3
   },
   "file_extension": ".py",
   "mimetype": "text/x-python",
   "name": "python",
   "nbconvert_exporter": "python",
   "pygments_lexer": "ipython3",
   "version": "3.9.10"
  },
  "orig_nbformat": 4
 },
 "nbformat": 4,
 "nbformat_minor": 2
}
