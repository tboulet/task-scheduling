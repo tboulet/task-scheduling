{
 "cells": [
  {
   "cell_type": "code",
   "execution_count": 811,
   "metadata": {},
   "outputs": [
    {
     "name": "stdout",
     "output_type": "stream",
     "text": [
      "The autoreload extension is already loaded. To reload it, use:\n",
      "  %reload_ext autoreload\n"
     ]
    }
   ],
   "source": [
    "%load_ext autoreload\n",
    "%autoreload 2"
   ]
  },
  {
   "cell_type": "code",
   "execution_count": 812,
   "metadata": {},
   "outputs": [
    {
     "name": "stdout",
     "output_type": "stream",
     "text": [
      "data/custom.json\n"
     ]
    }
   ],
   "source": [
    "import math\n",
    "import numpy as np\n",
    "import json\n",
    "from copy import deepcopy\n",
    "import bisect\n",
    "\n",
    "from config import filename\n",
    "print(filename)"
   ]
  },
  {
   "cell_type": "code",
   "execution_count": 813,
   "metadata": {},
   "outputs": [],
   "source": [
    "\n",
    "def n2letter(n):\n",
    "    '''0 to 'a', 1 to 'b', ... '''\n",
    "    return chr(96+n)\n",
    "\n",
    "def string2duration(string):\n",
    "    ''' \"01:50:19.3177493\" to duration in seconds'''\n",
    "    return 3600*int(string[:2]) + 60*int(string[3:5]) + int(string[6:8])   #Duration is int"
   ]
  },
  {
   "cell_type": "code",
   "execution_count": 814,
   "metadata": {},
   "outputs": [
    {
     "name": "stdout",
     "output_type": "stream",
     "text": [
      "Data loaded successfully. Number of tasks: 20\n"
     ]
    },
    {
     "data": {
      "text/plain": [
       "{1: {'Data': 6734, 'Dependencies': []},\n",
       " 2: {'Data': 3249, 'Dependencies': [1]},\n",
       " 3: {'Data': 1171, 'Dependencies': [2]},\n",
       " 4: {'Data': 4239, 'Dependencies': [2]},\n",
       " 5: {'Data': 5310, 'Dependencies': [2]},\n",
       " 6: {'Data': 7143, 'Dependencies': [3]},\n",
       " 7: {'Data': 5219, 'Dependencies': [3]},\n",
       " 8: {'Data': 3585, 'Dependencies': [4]},\n",
       " 9: {'Data': 3860, 'Dependencies': [9]},\n",
       " 10: {'Data': 6140, 'Dependencies': [7, 8]},\n",
       " 11: {'Data': 825, 'Dependencies': [10]},\n",
       " 12: {'Data': 6882, 'Dependencies': [9]},\n",
       " 13: {'Data': 7698, 'Dependencies': [12]},\n",
       " 14: {'Data': 5715, 'Dependencies': [1]},\n",
       " 15: {'Data': 2370, 'Dependencies': [14]},\n",
       " 16: {'Data': 746, 'Dependencies': [13, 15]},\n",
       " 17: {'Data': 4021, 'Dependencies': [11]},\n",
       " 18: {'Data': 3366, 'Dependencies': [15]},\n",
       " 19: {'Data': 2731, 'Dependencies': [18]},\n",
       " 20: {'Data': 7847, 'Dependencies': [17, 19]}}"
      ]
     },
     "execution_count": 814,
     "metadata": {},
     "output_type": "execute_result"
    }
   ],
   "source": [
    "def read_data(path):\n",
    "    global task_count\n",
    "    global tasks\n",
    "    file = open(path)\n",
    "    data = json.load(file)\n",
    "    nodes = data['nodes']\n",
    "    tasks = dict()\n",
    "    for task_str, info in nodes.items():\n",
    "        task = int(task_str)\n",
    "        tasks[task] = {'Data' : string2duration(info['Data']), 'Dependencies' : info['Dependencies']}\n",
    "    task_count = len(tasks)\n",
    "    print(\"Data loaded successfully. Number of tasks: \" + str(task_count))\n",
    "\n",
    "n_cores = 2\n",
    "read_data(filename)\n",
    "tasks"
   ]
  },
  {
   "cell_type": "code",
   "execution_count": 815,
   "metadata": {},
   "outputs": [
    {
     "name": "stdout",
     "output_type": "stream",
     "text": [
      "{1: [2, 14], 2: [3, 4, 5], 3: [6, 7], 4: [8], 5: [], 6: [], 7: [10], 8: [10], 9: [9, 12], 10: [11], 11: [17], 12: [13], 13: [16], 14: [15], 15: [16, 18], 16: [], 17: [20], 18: [19], 19: [20], 20: []}\n",
      "{1: [], 2: [1], 3: [2], 4: [2], 5: [2], 6: [3], 7: [3], 8: [4], 9: [9], 10: [7, 8], 11: [10], 12: [9], 13: [12], 14: [1], 15: [14], 16: [13, 15], 17: [11], 18: [15], 19: [18], 20: [17, 19]}\n"
     ]
    }
   ],
   "source": [
    "#Tasks to child tasks / Tasks to parents / Task is terminal / Task is inital\n",
    "task2childs = {task : list() for task in tasks}\n",
    "task2parents = {task : list() for task in tasks}\n",
    "for task, info in tasks.items():\n",
    "    #Add childs\n",
    "    list_task_parents = info['Dependencies']\n",
    "    for task_parent in list_task_parents:\n",
    "        task2childs[task_parent].append(task)\n",
    "    #Add parents\n",
    "    task2parents[task] = tasks[task]['Dependencies']\n",
    "    \n",
    "def task_is_terminal(task: int):\n",
    "    return len(task2childs[task]) == 0\n",
    "def task_is_inital(task: int):\n",
    "    return len(task2parents[task]) == 0\n",
    "\n",
    "print(task2childs)\n",
    "print(task2parents)"
   ]
  },
  {
   "cell_type": "code",
   "execution_count": 816,
   "metadata": {},
   "outputs": [
    {
     "data": {
      "text/plain": [
       "{6: 7143,\n",
       " 20: 7847,\n",
       " 17: 11868,\n",
       " 11: 12693,\n",
       " 10: 18833,\n",
       " 7: 24052,\n",
       " 3: 25223,\n",
       " 8: 22418,\n",
       " 4: 26657,\n",
       " 5: 5310,\n",
       " 2: 29906,\n",
       " 16: 746,\n",
       " 19: 10578,\n",
       " 18: 13944,\n",
       " 15: 16314,\n",
       " 14: 22029,\n",
       " 1: 36640}"
      ]
     },
     "execution_count": 816,
     "metadata": {},
     "output_type": "execute_result"
    }
   ],
   "source": [
    "task2sbl = {}\n",
    "\n",
    "def save_static_bottom_level(task : int):\n",
    "    task_duration = tasks[task][\"Data\"]\n",
    "    if task_is_terminal(task):\n",
    "        sbl = task_duration\n",
    "    else:\n",
    "        list_sbl_child = list()\n",
    "        for task_child in task2childs[task]:\n",
    "            if task_child in task2sbl:\n",
    "                sbl_child = task2sbl[task_child]\n",
    "            else:\n",
    "                sbl_child = save_static_bottom_level(task_child)\n",
    "            list_sbl_child.append(sbl_child)\n",
    "        sbl = max(list_sbl_child) + task_duration\n",
    "                \n",
    "    task2sbl[task] = sbl\n",
    "    return sbl\n",
    "\n",
    "for task in tasks:\n",
    "    if task_is_inital(task):\n",
    "        save_static_bottom_level(task)\n",
    "        \n",
    "task2sbl\n",
    "\n"
   ]
  },
  {
   "cell_type": "code",
   "execution_count": 817,
   "metadata": {},
   "outputs": [],
   "source": [
    "class Graph:\n",
    "    \n",
    "    def __init__(self):\n",
    "        self.tasks = tasks\n",
    "        self.tasks_to_sbl = task2sbl\n",
    "        self.tasks_to_parent = task2parents\n",
    "        self.tasks_to_child = task2childs\n",
    "        self.n_cores = 2\n",
    "        self.nodes = list()\n",
    "\n",
    "graph = Graph()"
   ]
  },
  {
   "cell_type": "code",
   "execution_count": 818,
   "metadata": {},
   "outputs": [],
   "source": [
    "class Node():\n",
    "    graph = graph\n",
    "    \n",
    "    def __init__(self, parent = None, task_to_add = None, core_where_to_add = None, time_task_start = None):\n",
    "        '''Create a Node object ie a partial scheduling\n",
    "        parent = parent Node, None if root\n",
    "        task_to_add : task added to the partial schedule\n",
    "        core_where_to_add : core where to do task\n",
    "        time_task_start : instant where the core will start computing the task\n",
    "        '''        \n",
    "        if parent is None:\n",
    "            self.parent = None\n",
    "            self.tasks_done_time = dict()\n",
    "            self.cores = {core_n : {\"task\" : -1, \"task_end_time\" : 0} for core_n in range(n_cores)}\n",
    "            \n",
    "            self.g = 0\n",
    "            self.f = self.h()\n",
    "                   \n",
    "            self.hist = ''  \n",
    "            \n",
    "        else:\n",
    "            task_end_time = time_task_start + self.graph.tasks[task_to_add]['Data']\n",
    "            \n",
    "            self.parent = parent\n",
    "            self.tasks_done_time = deepcopy(parent.tasks_done_time)\n",
    "            self.tasks_done_time[task_to_add] = task_end_time\n",
    "\n",
    "            self.cores = deepcopy(parent.cores)\n",
    "            self.cores[core_where_to_add] = {\"task\" : task_to_add, \"task_end_time\" : task_end_time}\n",
    "                \n",
    "            self.g = self.compute_g()\n",
    "            self.f = self.g + self.h()\n",
    "            \n",
    "            self.hist = parent.hist + f\"|Task {task_to_add} start at time {time_task_start} on core {core_where_to_add} \"\n",
    "                 \n",
    "    def __repr__(self):\n",
    "        string = '[' + ','.join([n2letter(task) for task in self.tasks_done_time]) + ']'\n",
    "        string += ''.join([f\"({core['task']} end at {core['task_end_time']})\" for core in self.cores.values()])\n",
    "        return string\n",
    "            \n",
    "    def is_goal(self):\n",
    "        '''Return whether a node is a full schedule'''\n",
    "        return len(self.tasks_done_time) == task_count\n",
    "    \n",
    "    def successors(self):                     \n",
    "        '''Create and return list of child node of self'''\n",
    "        childs = list()\n",
    "        \n",
    "        #On regarde toutes les tâches qu'on va tenter de rajouter\n",
    "        for task, info in self.graph.tasks.items():\n",
    "            \n",
    "            #On passe les taches déjà ajoutées\n",
    "            if task in self.tasks_done_time: \n",
    "                continue\n",
    "            \n",
    "            #On ne garde que les taches dont toutes les dépendances ont été réalisées\n",
    "            if not all([task_required in self.tasks_done_time for task_required in info['Dependencies']]): \n",
    "                continue\n",
    "            \n",
    "            #On calcul le temps ou toutes les dépendances de task seront terminés par les coeurs   \n",
    "            time_all_tasks_done = max([0] + [self.tasks_done_time[task_required] for task_required in info['Dependencies']])\n",
    "                                         \n",
    "            for core_n, core in self.cores.items():\n",
    "                #On ne commence à faire la task que lorsque toutes les dépendances sont calculées et que le core est disponible.\n",
    "                time_core_available = core[\"task_end_time\"]\n",
    "                time_task_start = max(time_all_tasks_done, time_core_available)\n",
    "                \n",
    "                child = Node(parent = self, task_to_add=task, core_where_to_add=core_n, time_task_start=time_task_start)    \n",
    "                childs.append(child)\n",
    "                \n",
    "        return sorted(childs, key = lambda node: node.f)\n",
    "        \n",
    "    def cost(self, child_node):\n",
    "        '''Return the cost of going from self to child_node, a child node of self\n",
    "        '''\n",
    "        res = child_node.g - self.g\n",
    "        if res < 0:\n",
    "            raise Exception(\"Cost difference is negative\")\n",
    "        return res\n",
    "    \n",
    "    def h(self):\n",
    "        '''Estimated remaining time of the node-schedule for reaching a terminal node. Must understimate true value.\n",
    "        '''\n",
    "        successor_tasks = list()\n",
    "        for task, info in self.graph.tasks.items():\n",
    "            if task in self.tasks_done_time: #On passe les taches déjà ajoutées\n",
    "                continue\n",
    "            if not all([task_required in self.tasks_done_time for task_required in info['Dependencies']]):   #On ne garde que les taches dont toutes les dépendances ont été réalisées\n",
    "                continue\n",
    "            successor_tasks.append(task)\n",
    "        if len(successor_tasks) == 0:\n",
    "            return 0\n",
    "        return max([self.graph.tasks_to_sbl[task] for task in successor_tasks])\n",
    "        \n",
    "    \n",
    "    #Node-schedule method\n",
    "    def __lt__(self, node):\n",
    "        return self.f < node.f\n",
    "    \n",
    "    def __hash__(self):\n",
    "        return self.f\n",
    "        \n",
    "    def __eq__(self, node):\n",
    "        '''Return whether a node is equal to another. Two nodes are considered equal if they have completed the same tasks and if all their cores stop working at same time.\n",
    "        '''\n",
    "        if self.g != node.g:\n",
    "            return False            \n",
    "        \n",
    "        return self.set_of_core() == node.set_of_core() and self.tasks_done_time == node.tasks_done_time\n",
    "        \n",
    "    def set_of_core(self):\n",
    "        return set([(core[\"task\"], core[\"task_end_time\"]) for core in self.cores.values()])\n",
    "    \n",
    "    def compute_g(self):\n",
    "        return max([core[\"task_end_time\"] for core in self.cores.values()])\n",
    "    \n",
    "# r = Node()\n",
    "# x,y = r.successors()\n",
    "# a,b,c,d,e,f, *_ = x.successors()[0].successors()\n",
    "# g, h, i, j, k, l, *_ = y.successors()[0].successors()\n",
    "\n",
    "# #Test successors\n",
    "# print(a, b, c, d, e, f, sep = '\\n')\n",
    "# print()\n",
    "# print(g, h, i, j, k, l, sep = '\\n')\n",
    "# print()\n",
    "\n",
    "# #Test __eq__\n",
    "# for i in (g, h, i, j, k, l):\n",
    "#     for j in (a, b, c, d, e, f):\n",
    "#         if i == j:\n",
    "#             print(i, j)\n",
    "\n",
    "# #Test cost\n",
    "# x.cost(a)\n",
    "\n",
    "# #Test h\n",
    "# print(r.h())\n",
    "# print(x.h())\n",
    "\n"
   ]
  },
  {
   "cell_type": "code",
   "execution_count": 819,
   "metadata": {},
   "outputs": [],
   "source": [
    "import time\n",
    "import queue\n",
    "import random as rd\n",
    "\n",
    "class A_star():\n",
    "    def __init__(self, root, graph):\n",
    "        self.root = root\n",
    "        self.graph = graph\n",
    "\n",
    "    def find_best_path(self, max_time = float('inf')):\n",
    "        t0 = time.time()\n",
    "        \n",
    "        OPEN_QUEUE = queue.PriorityQueue()\n",
    "        OPEN_QUEUE.put(self.root)       #Open queue, pile of most urgent node to be evaluated\n",
    "        OPEN_DICT = {self.root: None}   #Open set, more efficient way to compute if a node is in the open list\n",
    "        CLOSED_DICT = dict()            #Closed list, list of already explored node\n",
    "        \n",
    "        while not OPEN_QUEUE.empty():\n",
    "            if time.time() - t0 > max_time:\n",
    "                print('Time out')\n",
    "                return\n",
    "\n",
    "            current = OPEN_QUEUE.get()\n",
    "            del OPEN_DICT[current]\n",
    "            CLOSED_DICT[current] = None\n",
    "            if current.is_goal():   #If we reach a final node, it is the optimal solution and we return it\n",
    "                return current\n",
    "\n",
    "            for child in current.successors():\n",
    "\n",
    "                if child in CLOSED_DICT:    #We pass the node already visited\n",
    "                    continue\n",
    "                    \n",
    "                if child in OPEN_DICT:      #We pass the node already waiting to be visited (note: in A* general, we need to recompute child.g and child.parent here, but for us child.g only depends on child (not on parent))\n",
    "                    continue\n",
    "                \n",
    "                \n",
    "                else:\n",
    "                    # child.g = current.g + current.cost(child)     #General method. In our case, node.g does not depend on the path and the parent node\n",
    "                    OPEN_QUEUE.put(child)\n",
    "                    OPEN_DICT[child] = None\n",
    "                    \n",
    "        raise Exception(\"No path from root to a terminal node\")\n",
    "    \n",
    "# A_star(root = Node(), graph=graph).find_best_path()"
   ]
  },
  {
   "cell_type": "code",
   "execution_count": 820,
   "metadata": {},
   "outputs": [
    {
     "name": "stdout",
     "output_type": "stream",
     "text": [
      "Time out\n",
      "None\n",
      "         26033602 function calls (24350690 primitive calls) in 10.001 seconds\n",
      "\n",
      "   Ordered by: internal time\n",
      "\n",
      "   ncalls  tottime  percall  cumtime  percall filename:lineno(function)\n",
      "  3050590    1.832    0.000    2.937    0.000 <ipython-input-818-8258771efe32>:111(set_of_core)\n",
      "  5085442    1.612    0.000    4.549    0.000 <ipython-input-818-8258771efe32>:103(__eq__)\n",
      "1682912/88812    1.344    0.000    3.006    0.000 C:\\Users\\timot\\AppData\\Local\\Programs\\Python\\Python39\\lib\\copy.py:128(deepcopy)\n",
      "        1    1.017    1.017   10.001   10.001 <ipython-input-819-ddd3af7057e0>:10(find_best_path)\n",
      "  3050590    0.868    0.000    0.868    0.000 <ipython-input-818-8258771efe32>:112(<listcomp>)\n",
      "177624/88812    0.727    0.000    2.771    0.000 C:\\Users\\timot\\AppData\\Local\\Programs\\Python\\Python39\\lib\\copy.py:226(_deepcopy_dict)\n",
      "  3365824    0.296    0.000    0.296    0.000 {method 'get' of 'dict' objects}\n",
      "    44406    0.291    0.000    0.443    0.000 <ipython-input-818-8258771efe32>:81(h)\n",
      "  3094996    0.242    0.000    0.242    0.000 {method 'values' of 'dict' objects}\n",
      "   252991    0.212    0.000    0.212    0.000 {method 'items' of 'dict' objects}\n",
      "  2126972    0.195    0.000    0.195    0.000 {built-in method builtins.id}\n",
      "    44406    0.174    0.000    3.696    0.000 <ipython-input-818-8258771efe32>:4(__init__)\n",
      "     8758    0.162    0.000    3.934    0.000 <ipython-input-818-8258771efe32>:45(successors)\n",
      "   177624    0.118    0.000    0.156    0.000 C:\\Users\\timot\\AppData\\Local\\Programs\\Python\\Python39\\lib\\copy.py:242(_keep_alive)\n",
      "  1505288    0.117    0.000    0.117    0.000 C:\\Users\\timot\\AppData\\Local\\Programs\\Python\\Python39\\lib\\copy.py:182(_deepcopy_atomic)\n",
      "    40874    0.090    0.000    0.309    0.000 C:\\Users\\timot\\AppData\\Local\\Programs\\Python\\Python39\\lib\\queue.py:122(put)\n",
      "   255255    0.075    0.000    0.075    0.000 <ipython-input-818-8258771efe32>:97(__lt__)\n",
      "   313100    0.061    0.000    0.061    0.000 <ipython-input-818-8258771efe32>:88(<listcomp>)\n",
      "    49632    0.055    0.000    0.087    0.000 C:\\Users\\timot\\AppData\\Local\\Programs\\Python\\Python39\\lib\\threading.py:351(notify)\n",
      "   378435    0.048    0.000    0.048    0.000 {built-in method builtins.all}\n",
      "    44406    0.042    0.000    0.073    0.000 <ipython-input-818-8258771efe32>:114(compute_g)\n",
      "    40874    0.041    0.000    0.073    0.000 {built-in method _heapq.heappush}\n",
      "   154985    0.037    0.000    0.037    0.000 {built-in method builtins.max}\n",
      "     8758    0.034    0.000    0.139    0.000 C:\\Users\\timot\\AppData\\Local\\Programs\\Python\\Python39\\lib\\queue.py:154(get)\n",
      "     8758    0.033    0.000    0.076    0.000 {built-in method _heapq.heappop}\n",
      "   224536    0.027    0.000    0.027    0.000 {method 'append' of 'list' objects}\n",
      "    49632    0.022    0.000    0.038    0.000 C:\\Users\\timot\\AppData\\Local\\Programs\\Python\\Python39\\lib\\threading.py:256(__enter__)\n",
      "    49632    0.020    0.000    0.028    0.000 C:\\Users\\timot\\AppData\\Local\\Programs\\Python\\Python39\\lib\\threading.py:259(__exit__)\n",
      "    49632    0.019    0.000    0.032    0.000 C:\\Users\\timot\\AppData\\Local\\Programs\\Python\\Python39\\lib\\threading.py:271(_is_owned)\n",
      "     8758    0.018    0.000    0.024    0.000 {built-in method builtins.sorted}\n",
      "   145786    0.018    0.000    0.018    0.000 <ipython-input-818-8258771efe32>:100(__hash__)\n",
      "    43970    0.016    0.000    0.016    0.000 <ipython-input-818-8258771efe32>:93(<listcomp>)\n",
      "    40874    0.016    0.000    0.089    0.000 C:\\Users\\timot\\AppData\\Local\\Programs\\Python\\Python39\\lib\\queue.py:235(_put)\n",
      "    49632    0.015    0.000    0.015    0.000 {method '__enter__' of '_thread.lock' objects}\n",
      "    44406    0.014    0.000    0.014    0.000 <ipython-input-818-8258771efe32>:115(<listcomp>)\n",
      "    65335    0.014    0.000    0.014    0.000 <ipython-input-818-8258771efe32>:57(<listcomp>)\n",
      "     8759    0.013    0.000    0.022    0.000 C:\\Users\\timot\\AppData\\Local\\Programs\\Python\\Python39\\lib\\queue.py:97(empty)\n",
      "    49635    0.013    0.000    0.013    0.000 {method 'acquire' of '_thread.lock' objects}\n",
      "    70681    0.010    0.000    0.010    0.000 {built-in method builtins.len}\n",
      "    58391    0.009    0.000    0.009    0.000 {method '__exit__' of '_thread.lock' objects}\n",
      "    17517    0.007    0.000    0.010    0.000 C:\\Users\\timot\\AppData\\Local\\Programs\\Python\\Python39\\lib\\queue.py:232(_qsize)\n",
      "    22203    0.006    0.000    0.006    0.000 <ipython-input-818-8258771efe32>:61(<listcomp>)\n",
      "    44406    0.005    0.000    0.005    0.000 <ipython-input-818-8258771efe32>:71(<lambda>)\n",
      "     8760    0.005    0.000    0.005    0.000 {built-in method time.time}\n",
      "     8758    0.005    0.000    0.007    0.000 <ipython-input-818-8258771efe32>:41(is_goal)\n",
      "     8758    0.004    0.000    0.080    0.000 C:\\Users\\timot\\AppData\\Local\\Programs\\Python\\Python39\\lib\\queue.py:238(_get)\n",
      "        3    0.000    0.000    0.000    0.000 C:\\Users\\timot\\AppData\\Roaming\\Python\\Python39\\site-packages\\zmq\\sugar\\socket.py:438(send)\n",
      "        3    0.000    0.000    0.000    0.000 C:\\Users\\timot\\AppData\\Roaming\\Python\\Python39\\site-packages\\ipykernel\\iostream.py:91(_event_pipe)\n",
      "        3    0.000    0.000    0.000    0.000 C:\\Users\\timot\\AppData\\Roaming\\Python\\Python39\\site-packages\\ipykernel\\iostream.py:195(schedule)\n",
      "        2    0.000    0.000    0.000    0.000 C:\\Users\\timot\\AppData\\Roaming\\Python\\Python39\\site-packages\\ipykernel\\iostream.py:384(write)\n",
      "        1    0.000    0.000    0.000    0.000 C:\\Users\\timot\\AppData\\Local\\Programs\\Python\\Python39\\lib\\queue.py:34(__init__)\n",
      "        3    0.000    0.000    0.000    0.000 C:\\Users\\timot\\AppData\\Local\\Programs\\Python\\Python39\\lib\\threading.py:228(__init__)\n",
      "        1    0.000    0.000    0.000    0.000 {built-in method _thread.allocate_lock}\n",
      "        1    0.000    0.000    0.000    0.000 {built-in method builtins.print}\n",
      "        3    0.000    0.000    0.000    0.000 C:\\Users\\timot\\AppData\\Local\\Programs\\Python\\Python39\\lib\\threading.py:1113(is_alive)\n",
      "        2    0.000    0.000    0.000    0.000 C:\\Users\\timot\\AppData\\Roaming\\Python\\Python39\\site-packages\\ipykernel\\iostream.py:308(_is_master_process)\n",
      "        1    0.000    0.000    0.000    0.000 C:\\Users\\timot\\AppData\\Local\\Programs\\Python\\Python39\\lib\\cProfile.py:117(__exit__)\n",
      "        2    0.000    0.000    0.000    0.000 C:\\Users\\timot\\AppData\\Roaming\\Python\\Python39\\site-packages\\ipykernel\\iostream.py:321(_schedule_flush)\n",
      "        3    0.000    0.000    0.000    0.000 C:\\Users\\timot\\AppData\\Local\\Programs\\Python\\Python39\\lib\\threading.py:1059(_wait_for_tstate_lock)\n",
      "        2    0.000    0.000    0.000    0.000 {built-in method nt.getpid}\n",
      "        3    0.000    0.000    0.000    0.000 {method 'append' of 'collections.deque' objects}\n",
      "        3    0.000    0.000    0.000    0.000 C:\\Users\\timot\\AppData\\Local\\Programs\\Python\\Python39\\lib\\threading.py:529(is_set)\n",
      "        1    0.000    0.000    0.000    0.000 {method 'disable' of '_lsprof.Profiler' objects}\n",
      "        1    0.000    0.000    0.000    0.000 C:\\Users\\timot\\AppData\\Local\\Programs\\Python\\Python39\\lib\\queue.py:229(_init)\n",
      "        2    0.000    0.000    0.000    0.000 {built-in method builtins.isinstance}\n",
      "\n",
      "\n"
     ]
    },
    {
     "data": {
      "text/plain": [
       "<pstats.Stats at 0x21123960e20>"
      ]
     },
     "execution_count": 820,
     "metadata": {},
     "output_type": "execute_result"
    }
   ],
   "source": [
    "import cProfile\n",
    "import pstats\n",
    "\n",
    "root = Node()\n",
    "a_star = A_star(root = root, graph=graph)\n",
    "\n",
    "with cProfile.Profile() as pr:\n",
    "    final_node = a_star.find_best_path(max_time=10)\n",
    "\n",
    "print(final_node)\n",
    "stats = pstats.Stats(pr)\n",
    "stats.sort_stats(pstats.SortKey.TIME)\n",
    "stats.dump_stats(filename='profiling.prof')\n",
    "stats.print_stats()"
   ]
  },
  {
   "cell_type": "code",
   "execution_count": 821,
   "metadata": {},
   "outputs": [
    {
     "name": "stdout",
     "output_type": "stream",
     "text": [
      "[a,b,d,e,g,h,i,f,j,c](3 end at 22440)(6 end at 20276)\n",
      "[a,b,d,e,g,h,i,f,j](10 end at 19699)(6 end at 20276)\n",
      "[a,b,d,e,g,h,i,f](9 end at 16816)(6 end at 20276)\n",
      "[a,b,d,e,g,h,i](9 end at 16816)(8 end at 15160)\n",
      "[a,b,d,e,g,h](5 end at 11564)(8 end at 15160)\n",
      "[a,b,d,e,g](5 end at 11564)(7 end at 10887)\n",
      "[a,b,d,e](5 end at 11564)(4 end at 7009)\n",
      "[a,b,d](2 end at 6499)(4 end at 7009)\n",
      "[a,b](2 end at 6499)(-1 end at 0)\n",
      "[a](1 end at 2843)(-1 end at 0)\n",
      "[](-1 end at 0)(-1 end at 0)\n"
     ]
    }
   ],
   "source": [
    "c = deepcopy(fn)\n",
    "while c is not None:\n",
    "    print(c)\n",
    "    c = c.parent"
   ]
  },
  {
   "cell_type": "code",
   "execution_count": 822,
   "metadata": {},
   "outputs": [
    {
     "data": {
      "text/plain": [
       "11564"
      ]
     },
     "execution_count": 822,
     "metadata": {},
     "output_type": "execute_result"
    }
   ],
   "source": [
    "2843+3656+5065 \n"
   ]
  },
  {
   "cell_type": "code",
   "execution_count": 823,
   "metadata": {},
   "outputs": [
    {
     "data": {
      "text/plain": [
       "10887"
      ]
     },
     "execution_count": 823,
     "metadata": {},
     "output_type": "execute_result"
    }
   ],
   "source": [
    "2843 + 4166+3878"
   ]
  },
  {
   "cell_type": "code",
   "execution_count": 824,
   "metadata": {},
   "outputs": [],
   "source": [
    "stats = pstats.Stats(pr)\n",
    "stats.sort_stats(pstats.SortKey.TIME)\n",
    "stats.dump_stats(filename='profiling.prof')"
   ]
  },
  {
   "cell_type": "code",
   "execution_count": 825,
   "metadata": {},
   "outputs": [],
   "source": [
    "# final_node.hist"
   ]
  },
  {
   "cell_type": "code",
   "execution_count": null,
   "metadata": {},
   "outputs": [],
   "source": []
  },
  {
   "cell_type": "code",
   "execution_count": 826,
   "metadata": {},
   "outputs": [
    {
     "data": {
      "text/plain": [
       "20784"
      ]
     },
     "execution_count": 826,
     "metadata": {},
     "output_type": "execute_result"
    }
   ],
   "source": [
    "\n",
    "2843 + 2883+3596+5065+3656 + 2741"
   ]
  },
  {
   "cell_type": "code",
   "execution_count": 827,
   "metadata": {},
   "outputs": [
    {
     "data": {
      "text/plain": [
       "21255"
      ]
     },
     "execution_count": 827,
     "metadata": {},
     "output_type": "execute_result"
    }
   ],
   "source": [
    "2843 + 3878 + 5252 + 4166 + 5116"
   ]
  },
  {
   "cell_type": "code",
   "execution_count": 828,
   "metadata": {},
   "outputs": [
    {
     "data": {
      "text/plain": [
       "-471"
      ]
     },
     "execution_count": 828,
     "metadata": {},
     "output_type": "execute_result"
    }
   ],
   "source": [
    "20784 - 21255\n"
   ]
  }
 ],
 "metadata": {
  "interpreter": {
   "hash": "7e016cbfee4a4a9f8ad68d1216e5f03d3845a8636147ff93c078e6684dcfe1d3"
  },
  "kernelspec": {
   "display_name": "Python 3.9.7 64-bit",
   "language": "python",
   "name": "python3"
  },
  "language_info": {
   "codemirror_mode": {
    "name": "ipython",
    "version": 3
   },
   "file_extension": ".py",
   "mimetype": "text/x-python",
   "name": "python",
   "nbconvert_exporter": "python",
   "pygments_lexer": "ipython3",
   "version": "3.9.7"
  },
  "orig_nbformat": 4
 },
 "nbformat": 4,
 "nbformat_minor": 2
}
