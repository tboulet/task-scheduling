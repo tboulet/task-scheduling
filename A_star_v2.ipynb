{
 "cells": [
  {
   "cell_type": "code",
   "execution_count": 357,
   "metadata": {},
   "outputs": [
    {
     "name": "stdout",
     "output_type": "stream",
     "text": [
      "The autoreload extension is already loaded. To reload it, use:\n",
      "  %reload_ext autoreload\n"
     ]
    }
   ],
   "source": [
    "%load_ext autoreload\n",
    "%autoreload 2"
   ]
  },
  {
   "cell_type": "code",
   "execution_count": 358,
   "metadata": {},
   "outputs": [
    {
     "name": "stdout",
     "output_type": "stream",
     "text": [
      "data/smallRandom.json\n"
     ]
    }
   ],
   "source": [
    "import math\n",
    "import numpy as np\n",
    "import json\n",
    "from copy import deepcopy\n",
    "import bisect\n",
    "\n",
    "from config import filename\n",
    "print(filename)"
   ]
  },
  {
   "cell_type": "code",
   "execution_count": 359,
   "metadata": {},
   "outputs": [],
   "source": [
    "def n2letter(n):\n",
    "    '''0 to 'a', 1 to 'b', ... '''\n",
    "    return chr(96+n)\n",
    "\n",
    "def string2duration(string):\n",
    "    ''' \"01:50:19.3177493\" to duration in seconds'''\n",
    "    return 3600*int(string[:2]) + 60*int(string[3:5]) + int(string[6:8])   #Duration is int"
   ]
  },
  {
   "cell_type": "code",
   "execution_count": 360,
   "metadata": {},
   "outputs": [
    {
     "name": "stdout",
     "output_type": "stream",
     "text": [
      "Data loaded successfully. Number of tasks: 10\n"
     ]
    }
   ],
   "source": [
    "def read_data(path):\n",
    "    global task_count\n",
    "    global tasks\n",
    "    file = open(path)\n",
    "    data = json.load(file)\n",
    "    nodes = data['nodes']\n",
    "    tasks = dict()\n",
    "    for task_str, info in nodes.items():\n",
    "        task = int(task_str)\n",
    "        tasks[task] = {'Data' : string2duration(info['Data']), 'Dependencies' : info['Dependencies']}\n",
    "    task_count = len(tasks)\n",
    "    print(\"Data loaded successfully. Number of tasks: \" + str(task_count))\n",
    "\n",
    "n_cores = 2\n",
    "read_data(filename)\n",
    "# tasks"
   ]
  },
  {
   "cell_type": "code",
   "execution_count": 361,
   "metadata": {},
   "outputs": [],
   "source": [
    "#Tasks to child tasks / Tasks to parents / Task is terminal / Task is inital\n",
    "task2childs = {task : list() for task in tasks}\n",
    "task2parents = {task : list() for task in tasks}\n",
    "for task, info in tasks.items():\n",
    "    #Add childs\n",
    "    list_task_parents = info['Dependencies']\n",
    "    for task_parent in list_task_parents:\n",
    "        task2childs[task_parent].append(task)\n",
    "    #Add parents\n",
    "    task2parents[task] = tasks[task]['Dependencies']\n",
    "    \n",
    "def task_is_terminal(task: int):\n",
    "    return len(task2childs[task]) == 0\n",
    "def task_is_inital(task: int):\n",
    "    return len(task2parents[task]) == 0\n",
    "\n",
    "# print(task2childs)\n",
    "# print(task2parents)"
   ]
  },
  {
   "cell_type": "code",
   "execution_count": 362,
   "metadata": {},
   "outputs": [],
   "source": [
    "task2sbl = {}\n",
    "\n",
    "def save_static_bottom_level(task : int):\n",
    "    task_duration = tasks[task][\"Data\"]\n",
    "    if task_is_terminal(task):\n",
    "        sbl = task_duration\n",
    "    else:\n",
    "        list_sbl_child = list()\n",
    "        for task_child in task2childs[task]:\n",
    "            if task_child in task2sbl:\n",
    "                sbl_child = task2sbl[task_child]\n",
    "            else:\n",
    "                sbl_child = save_static_bottom_level(task_child)\n",
    "            list_sbl_child.append(sbl_child)\n",
    "        sbl = max(list_sbl_child) + task_duration\n",
    "                \n",
    "    task2sbl[task] = sbl\n",
    "    return sbl\n",
    "\n",
    "for task in tasks:\n",
    "    if task_is_inital(task):\n",
    "        save_static_bottom_level(task)\n",
    "        \n",
    "# task2sbl\n",
    "\n"
   ]
  },
  {
   "cell_type": "code",
   "execution_count": 363,
   "metadata": {},
   "outputs": [],
   "source": [
    "class Core():\n",
    "    def __init__(self, core_n):\n",
    "        self.core_n = core_n\n",
    "        self.task = -1\n",
    "        self.task_end_time = 0\n",
    "    \n",
    "    def __repr__(self):\n",
    "        return f\"({self.core_n}: task {self.task} end at {self.task_end_time})\"    \n",
    "    \n",
    "    def __eq__(self, node):\n",
    "        return self.task == node.task and self.task_end_time == node.task_end_time\n"
   ]
  },
  {
   "cell_type": "code",
   "execution_count": null,
   "metadata": {},
   "outputs": [],
   "source": []
  },
  {
   "cell_type": "code",
   "execution_count": 364,
   "metadata": {},
   "outputs": [],
   "source": [
    "class Node():\n",
    "    def __init__(self, parent = None, task_to_add = None, core_where_to_add = None, time_task_start = None):\n",
    "        '''Create a Node object ie a partial scheduling\n",
    "        parent = parent Node, None if root\n",
    "        task_to_add : task added to the partial schedule\n",
    "        core_where_to_add : core where to do task\n",
    "        time_task_start : instant where the core will start computing the task\n",
    "        '''\n",
    "        self.tasks_graph = tasks\n",
    "        \n",
    "        if parent is None:\n",
    "            self.parent = None\n",
    "            self.tasks_done = set()\n",
    "            self.cores = {core_n : {\"task\" : -1, \"task_end_time\" : 0} for core_n in range(n_cores)}\n",
    "                                  \n",
    "            self.hist = ''  \n",
    "            \n",
    "        else:\n",
    "            self.parent = parent\n",
    "            self.tasks_done = deepcopy(parent.tasks_done)\n",
    "            self.tasks_done.add(task_to_add)\n",
    "\n",
    "            self.cores = deepcopy(parent.cores)\n",
    "            duration_task = self.tasks_graph[task_to_add]['Data']            \n",
    "            self.cores[core_where_to_add] = {\"task\" : task_to_add, \"task_end_time\" : time_task_start + duration_task}\n",
    "                \n",
    "            self.hist = parent.hist + f\"|{core_where_to_add}{n2letter(task_to_add)}\"\n",
    "                 \n",
    "    def __repr__(self):\n",
    "        string = '[' + ','.join([n2letter(task) for task in self.tasks_done]) + ']'\n",
    "        string += ''.join([f\"({core['task']} end at {core['task_end_time']})\" for core in self.cores.values()])\n",
    "        return string\n",
    "            \n",
    "    def is_terminal(self):\n",
    "        '''Return whether a node is a full schedule'''\n",
    "        return len(self.tasks_done) == task_count\n",
    "    \n",
    "    def succ(self):                     \n",
    "        '''Create and return list of child node of self'''\n",
    "        childs = list()\n",
    "        \n",
    "        #On regarde toutes les tâches qu'on va tenter de rajouter\n",
    "        for task, info in self.tasks_graph.items():\n",
    "            \n",
    "            #On passe les taches déjà ajoutées\n",
    "            if task in self.tasks_done: \n",
    "                continue\n",
    "            \n",
    "            #On ne garde que les taches dont toutes les dépendances ont été réalisées\n",
    "            if not all([task_required in self.tasks_done for task_required in info['Dependencies']]): \n",
    "                continue\n",
    "            \n",
    "            #On calcul le temps ou toutes les dépendances de task seront terminés par les coeurs            \n",
    "            time_all_dependencies_done = 0\n",
    "            for core in self.cores.values():\n",
    "                #Pour chaque coeur, si la task actuellement calculée est une dépendance, on ne pourra commencer à calculer la nouvelle task qu'une fois que la task dépendante sera finie\n",
    "                if core[\"task\"] in info['Dependencies']:\n",
    "                    time_all_dependencies_done = max(core[\"task_end_time\"], time_all_dependencies_done)\n",
    "                    \n",
    "            for core_n, core in self.cores.items():\n",
    "                #On ne commence à faire la task que lorsque toutes les dépendances sont calculées et que le core est disponible.\n",
    "                time_core_available = core[\"task_end_time\"]\n",
    "                time_task_start = max(time_all_dependencies_done, time_core_available)\n",
    "                child = Node(parent = self, task_to_add=task, core_where_to_add=core_n, time_task_start=time_task_start)\n",
    "                childs.append(child)\n",
    "                \n",
    "        return childs\n",
    "        \n",
    "    def cost(self, child_node):\n",
    "        '''Return the cost of going from self to child_node, a child node of self\n",
    "        '''\n",
    "        g_self = max([core[\"task_end_time\"] for core in self.cores.values()])\n",
    "        g_child = max([core[\"task_end_time\"] for core in child_node.cores.values()])\n",
    "        cost = g_child - g_self\n",
    "        return cost\n",
    "    \n",
    "    #Node-schedule method\n",
    "    def __eq__(self, node):\n",
    "        '''Return whether a node is equal to another. Two nodes are considered equal if they have completed the same tasks and if all their cores stop working at same time.\n",
    "        '''\n",
    "        return self.tasks_done == node.tasks_done and self.set_of_core() == node.set_of_core()\n",
    "    \n",
    "    def set_of_core(self):\n",
    "        return set([(core[\"task\"], core[\"task_end_time\"]) for core in self.cores.values()])\n",
    "    \n",
    "    def compute_g(self):\n",
    "        return max([core[\"task_end_time\"] for core in self.cores.values()])\n",
    "    \n",
    "root = Node()\n",
    "x, y = root.succ()\n",
    "\n",
    "# print(a, b, c, d, e, f, sep = '\\n')\n",
    "# print()\n",
    "# print(g, h, i, j, k, l, sep = '\\n')"
   ]
  },
  {
   "cell_type": "code",
   "execution_count": 365,
   "metadata": {},
   "outputs": [
    {
     "data": {
      "text/plain": [
       "18043"
      ]
     },
     "execution_count": 365,
     "metadata": {},
     "output_type": "execute_result"
    }
   ],
   "source": [
    "def h(node):\n",
    "    '''Estimated remaining time of the node-schedule for reaching a terminal node.\n",
    "    Must understimate true value.'''\n",
    "    successor_tasks = list()\n",
    "    for task, info in tasks.items():\n",
    "        if task in node.tasks_done: #On passe les taches déjà ajoutées\n",
    "            continue\n",
    "        if not all([task_required in node.tasks_done for task_required in info['Dependencies']]):   #On ne garde que les taches dont toutes les dépendances ont été réalisées\n",
    "            continue\n",
    "        successor_tasks.append(task)\n",
    "    if successor_tasks == []:\n",
    "        return 0\n",
    "    return max([task2sbl[task] for task in successor_tasks])\n",
    "\n",
    "h(root)"
   ]
  },
  {
   "cell_type": "code",
   "execution_count": 366,
   "metadata": {},
   "outputs": [
    {
     "name": "stdout",
     "output_type": "stream",
     "text": [
      "917\r"
     ]
    },
    {
     "data": {
      "text/plain": [
       "[a,b,c,d,e,f,g,h,i,j](3 end at 20784)(6 end at 18412)"
      ]
     },
     "execution_count": 366,
     "metadata": {},
     "output_type": "execute_result"
    }
   ],
   "source": [
    "import time\n",
    "\n",
    "class A_star():\n",
    "    def __init__(self, root):\n",
    "        self.root = root\n",
    "        \n",
    "    def insert_in_open_list(self, node, open_list):\n",
    "        idx = 0\n",
    "        while idx < len(open_list):\n",
    "            if node.f < open_list[idx].f:\n",
    "                open_list.insert(idx, node)\n",
    "                return\n",
    "            idx += 1\n",
    "        open_list.append(node)\n",
    "        return\n",
    "            \n",
    "    def find_best_path(self):\n",
    "        root.g = 0\n",
    "        root.f = h(root)\n",
    "        OPEN = [self.root]\n",
    "        CLOSED = []\n",
    "        \n",
    "        while len(OPEN) > 0:\n",
    "            current = OPEN.pop(0)\n",
    "            CLOSED.append(current)\n",
    "            \n",
    "            if current.is_terminal():\n",
    "                return current\n",
    "\n",
    "            print(len(OPEN), end = '\\r')\n",
    "            for child in current.succ():\n",
    "                \n",
    "                if child in CLOSED:\n",
    "                    continue\n",
    "                \n",
    "                if child in OPEN:\n",
    "                    continue    #For our particular problem, the self.g will always be the same (the parent does not matter) so pass\n",
    "                \n",
    "                else:\n",
    "                    # child.g = current.g + current.cost(child)     #General method. In our case, node.g does not depend on the path and the parent node\n",
    "                    child.g = child.compute_g()\n",
    "                    child.f = child.g + h(child)\n",
    "                    self.insert_in_open_list(child, OPEN)\n",
    "            \n",
    "        raise Exception(\"No path from root to a terminal node\")\n",
    "    \n",
    "root = Node()\n",
    "a_star = A_star(root = root)\n",
    "a_star.find_best_path()"
   ]
  },
  {
   "cell_type": "code",
   "execution_count": null,
   "metadata": {},
   "outputs": [],
   "source": []
  }
 ],
 "metadata": {
  "interpreter": {
   "hash": "7e016cbfee4a4a9f8ad68d1216e5f03d3845a8636147ff93c078e6684dcfe1d3"
  },
  "kernelspec": {
   "display_name": "Python 3.9.7 64-bit",
   "language": "python",
   "name": "python3"
  },
  "language_info": {
   "codemirror_mode": {
    "name": "ipython",
    "version": 3
   },
   "file_extension": ".py",
   "mimetype": "text/x-python",
   "name": "python",
   "nbconvert_exporter": "python",
   "pygments_lexer": "ipython3",
   "version": "3.9.7"
  },
  "orig_nbformat": 4
 },
 "nbformat": 4,
 "nbformat_minor": 2
}
