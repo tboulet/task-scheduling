{
 "cells": [
  {
   "cell_type": "code",
   "execution_count": 24,
   "metadata": {},
   "outputs": [
    {
     "name": "stdout",
     "output_type": "stream",
     "text": [
      "The autoreload extension is already loaded. To reload it, use:\n",
      "  %reload_ext autoreload\n"
     ]
    }
   ],
   "source": [
    "%load_ext autoreload\n",
    "%autoreload 2"
   ]
  },
  {
   "cell_type": "code",
   "execution_count": 25,
   "metadata": {},
   "outputs": [
    {
     "name": "stdout",
     "output_type": "stream",
     "text": [
      "data/smallRandom.json\n"
     ]
    }
   ],
   "source": [
    "import math\n",
    "import numpy as np\n",
    "import json\n",
    "from copy import deepcopy\n",
    "from config import filename\n",
    "print(filename)"
   ]
  },
  {
   "cell_type": "code",
   "execution_count": 26,
   "metadata": {},
   "outputs": [],
   "source": [
    "def n2letter(n):\n",
    "    '''0 to 'a', 1 to 'b', ... '''\n",
    "    return chr(96+n)\n",
    "\n",
    "def string2duration(string):\n",
    "    ''' \"01:50:19.3177493\" to duration in seconds'''\n",
    "    return 3600*int(string[:2]) + 60*int(string[3:5]) + float(string[6:])"
   ]
  },
  {
   "cell_type": "code",
   "execution_count": 27,
   "metadata": {},
   "outputs": [
    {
     "name": "stdout",
     "output_type": "stream",
     "text": [
      "Data loaded successfully. Number of tasks: 10\n"
     ]
    },
    {
     "data": {
      "text/plain": [
       "{'1': {'Data': 2843.6552354, 'Dependencies': []},\n",
       " '2': {'Data': 3656.0712509, 'Dependencies': [1]},\n",
       " '3': {'Data': 2741.9822376, 'Dependencies': [1]},\n",
       " '4': {'Data': 4166.224333, 'Dependencies': [1]},\n",
       " '5': {'Data': 5065.7910236, 'Dependencies': [2]},\n",
       " '6': {'Data': 5116.0078169, 'Dependencies': [4]},\n",
       " '7': {'Data': 3878.7031112, 'Dependencies': [2]},\n",
       " '8': {'Data': 3596.1902359, 'Dependencies': [5]},\n",
       " '9': {'Data': 5252.579534, 'Dependencies': [7]},\n",
       " '10': {'Data': 2883.6393571, 'Dependencies': [8]}}"
      ]
     },
     "execution_count": 27,
     "metadata": {},
     "output_type": "execute_result"
    }
   ],
   "source": [
    "def read_data(path):\n",
    "    global task_count\n",
    "    global data\n",
    "    global tasks\n",
    "    file = open(path)\n",
    "    data = json.load(file)\n",
    "    tasks = data['nodes']\n",
    "    for task in tasks:\n",
    "        tasks[task]['Data'] = string2duration(tasks[task]['Data'])\n",
    "    task_count = len(tasks)\n",
    "    print(\"Data loaded successfully. Number of tasks: \" + str(task_count))\n",
    "\n",
    "n_cores = 2\n",
    "read_data(filename)\n",
    "tasks"
   ]
  },
  {
   "cell_type": "code",
   "execution_count": 28,
   "metadata": {},
   "outputs": [],
   "source": [
    "#Tasks to child tasks / Tasks to parents / Task is terminal / Task is inital\n",
    "task2childs = {task : list() for task in tasks}\n",
    "task2parents = {task : list() for task in tasks}\n",
    "for task, info in tasks.items():\n",
    "    #Add childs\n",
    "    list_task_parents = info['Dependencies']\n",
    "    for task_parent in list_task_parents:\n",
    "        task2childs[str(task_parent)].append(task)\n",
    "    #Add parents\n",
    "    task2parents[str(task)] = tasks[task]['Dependencies']\n",
    "    \n",
    "def task_is_terminal(task: int):\n",
    "    return len(task2childs[str(task)]) == 0\n",
    "def task_is_inital(task: int):\n",
    "    return len(task2parents[str(task)]) == 0\n",
    "\n",
    "# print(task2childs)\n",
    "# print(task2parents)"
   ]
  },
  {
   "cell_type": "code",
   "execution_count": 29,
   "metadata": {},
   "outputs": [
    {
     "data": {
      "text/plain": [
       "{'10': 2883.6393571,\n",
       " '8': 6479.829593,\n",
       " '5': 11545.620616600001,\n",
       " '9': 5252.579534,\n",
       " '7': 9131.2826452,\n",
       " '2': 15201.691867500002,\n",
       " '3': 2741.9822376,\n",
       " '6': 5116.0078169,\n",
       " '4': 9282.232149899999,\n",
       " '1': 18045.347102900003}"
      ]
     },
     "execution_count": 29,
     "metadata": {},
     "output_type": "execute_result"
    }
   ],
   "source": [
    "task2sbl = {}\n",
    "\n",
    "def save_static_bottom_level(task : int):\n",
    "    task_duration = tasks[str(task)][\"Data\"]\n",
    "    if task_is_terminal(task):\n",
    "        sbl = task_duration\n",
    "    else:\n",
    "        list_sbl_child = list()\n",
    "        for task_child in task2childs[str(task)]:\n",
    "            if task_child in task2sbl:\n",
    "                sbl_child = task2sbl[task_child]\n",
    "            else:\n",
    "                sbl_child = save_static_bottom_level(task_child)\n",
    "            list_sbl_child.append(sbl_child)\n",
    "        sbl = max(list_sbl_child) + task_duration\n",
    "                \n",
    "    task2sbl[task] = sbl\n",
    "    return sbl\n",
    "\n",
    "for task in tasks:\n",
    "    if task_is_inital(task):\n",
    "        save_static_bottom_level(task)\n",
    "        \n",
    "task2sbl\n",
    "\n"
   ]
  },
  {
   "cell_type": "code",
   "execution_count": 30,
   "metadata": {},
   "outputs": [
    {
     "data": {
      "text/plain": [
       "[ab| --- Cores available at time: {0: 6499.7264863, 1: 0}. Tasks started times : {'1': 0, '2': 2843.6552354}. Tasks done times : {'1': 2843.6552354, '2': 6499.7264863},\n",
       " a|b --- Cores available at time: {0: 2843.6552354, 1: 6499.7264863}. Tasks started times : {'1': 0, '2': 2843.6552354}. Tasks done times : {'1': 2843.6552354, '2': 6499.7264863},\n",
       " ac| --- Cores available at time: {0: 5585.637473000001, 1: 0}. Tasks started times : {'1': 0, '3': 2843.6552354}. Tasks done times : {'1': 2843.6552354, '3': 5585.637473000001},\n",
       " a|c --- Cores available at time: {0: 2843.6552354, 1: 5585.637473000001}. Tasks started times : {'1': 0, '3': 2843.6552354}. Tasks done times : {'1': 2843.6552354, '3': 5585.637473000001},\n",
       " ad| --- Cores available at time: {0: 7009.8795684, 1: 0}. Tasks started times : {'1': 0, '4': 2843.6552354}. Tasks done times : {'1': 2843.6552354, '4': 7009.8795684},\n",
       " a|d --- Cores available at time: {0: 2843.6552354, 1: 7009.8795684}. Tasks started times : {'1': 0, '4': 2843.6552354}. Tasks done times : {'1': 2843.6552354, '4': 7009.8795684}]"
      ]
     },
     "execution_count": 30,
     "metadata": {},
     "output_type": "execute_result"
    }
   ],
   "source": [
    "class Node():\n",
    "\n",
    "    def __init__(self, parent = None, task_to_add = None, core_where_to_add = None, time_task_start = None, graph = None):\n",
    "        '''Create a Node object ie a partial scheduling\n",
    "        parent = parent Node, None if root\n",
    "        task_to_add : task added to the partial schedule\n",
    "        core_where_to_add : core where to do task\n",
    "        time_task_start : instant where the core will start computing the task\n",
    "        '''\n",
    "        \n",
    "        if parent is None:\n",
    "            self.tasks = graph\n",
    "            self.schedule = {core : list() for core in range(n_cores)}              #lists of the tasks made on each core, ordered by most recent tasks\n",
    "            self.cores_available_time = {core : 0 for core in range(n_cores)}       #instant t where core will be available\n",
    "            self.tasks_done_time = {}                                               #instant t where task was done for each task done\n",
    "            self.tasks_started_time = {}                                            #instant t where task was started for each task done\n",
    "                        \n",
    "        else:\n",
    "            self.tasks = parent.tasks\n",
    "            \n",
    "            self.schedule = deepcopy(parent.schedule)\n",
    "            self.schedule[core_where_to_add].append(task_to_add)\n",
    "            \n",
    "            duration_task = self.tasks[task_to_add]['Data']\n",
    "            self.cores_available_time = deepcopy(parent.cores_available_time)\n",
    "            self.cores_available_time[core_where_to_add] = time_task_start + duration_task\n",
    "            \n",
    "            self.tasks_started_time = deepcopy(parent.tasks_started_time)\n",
    "            self.tasks_started_time[task_to_add] = time_task_start \n",
    "            \n",
    "            self.tasks_done_time = deepcopy(parent.tasks_done_time)\n",
    "            self.tasks_done_time[task_to_add] = time_task_start + duration_task            \n",
    "    \n",
    "    def __repr__(self):\n",
    "        string = ''\n",
    "        for core_schedule in self.schedule.values():\n",
    "            for task in core_schedule:\n",
    "                string += n2letter(int(task))\n",
    "            string += '|'\n",
    "        return f\"{string[:-1]} --- Cores available at time: {self.cores_available_time}. Tasks started times : {self.tasks_started_time}. Tasks done times : {self.tasks_done_time}\"\n",
    "            \n",
    "    def is_terminal(self):\n",
    "        '''Return whether a node is a full schedule'''\n",
    "        return len(self.tasks_done_time) == task_count\n",
    "    \n",
    "    def succ(self):                     \n",
    "        '''Create and return list of child node of self'''\n",
    "        childs = list()\n",
    "        \n",
    "        #On regarde toutes les tâches qu'on va tenter de rajouter\n",
    "        for task, info in self.tasks.items():\n",
    "            if task in self.tasks_done_time: #On passe les taches déjà ajoutées\n",
    "                continue\n",
    "            if not all([str(task_required) in self.tasks_done_time for task_required in info['Dependencies']]):   #On ne garde que les taches dont toutes les dépendances ont été réalisées\n",
    "                continue\n",
    "            \n",
    "            time_all_dependencies_done = max([0] + [self.tasks_done_time[str(task_required)] for task_required in self.tasks[task]['Dependencies']])\n",
    "            \n",
    "            for core in range(n_cores):\n",
    "                time_core_available = self.cores_available_time[core]\n",
    "                time_task_start = max(time_core_available, time_all_dependencies_done)  #We wait that the core end its tasks AND that every dependencies was done.\n",
    "                child = Node(parent = self, task_to_add=task, core_where_to_add=core, time_task_start=time_task_start)\n",
    "                childs.append(child)\n",
    "                \n",
    "        return childs\n",
    "        \n",
    "    def cost(self, child_node):\n",
    "        '''Return the cost of going from self to child_node, a child node of self\n",
    "        '''\n",
    "        g_self = max(self.cores_available_time.values())\n",
    "        g_child = max(child_node.cores_available_time.values())\n",
    "        cost = g_child - g_self\n",
    "        return cost\n",
    "    \n",
    "    def compute_g(self):\n",
    "        return max(self.cores_available_time.values())\n",
    "    \n",
    "root = Node(graph = tasks)\n",
    "a = root.succ()[0]\n",
    "a.succ()"
   ]
  },
  {
   "cell_type": "code",
   "execution_count": 31,
   "metadata": {},
   "outputs": [
    {
     "data": {
      "text/plain": [
       "(18045.347102900003, 15201.691867500002)"
      ]
     },
     "execution_count": 31,
     "metadata": {},
     "output_type": "execute_result"
    }
   ],
   "source": [
    "def h(node):\n",
    "    '''Estimated remaining time of the node-schedule for reaching a terminal node.\n",
    "    Must understimate true value.'''\n",
    "    successor_tasks = list()\n",
    "    for task, info in tasks.items():\n",
    "        if task in node.tasks_done_time: #On passe les taches déjà ajoutées\n",
    "            continue\n",
    "        if not all([str(task_required) in node.tasks_done_time for task_required in info['Dependencies']]):   #On ne garde que les taches dont toutes les dépendances ont été réalisées\n",
    "            continue\n",
    "        successor_tasks.append(task)\n",
    "    if successor_tasks == []:\n",
    "        return 0\n",
    "    return max([task2sbl[task] for task in successor_tasks])\n",
    "\n",
    "h(root), h(a)"
   ]
  },
  {
   "cell_type": "code",
   "execution_count": 32,
   "metadata": {},
   "outputs": [
    {
     "name": "stdout",
     "output_type": "stream",
     "text": [
      "Result: abehf|dgijc --- Cores available at time: {0: 20277.7155627, 1: 21766.783808300002}. Tasks started times : {'1': 0, '2': 2843.6552354, '4': 2843.6552354, '5': 6499.7264863, '7': 7009.8795684, '8': 11565.5175099, '9': 10888.5826796, '6': 15161.7077458, '10': 16141.1622136, '3': 19024.8015707}. Tasks done times : {'1': 2843.6552354, '2': 6499.7264863, '4': 7009.8795684, '5': 11565.5175099, '7': 10888.5826796, '8': 15161.7077458, '9': 16141.1622136, '6': 20277.7155627, '10': 19024.8015707, '3': 21766.783808300002}\n"
     ]
    }
   ],
   "source": [
    "\n",
    "\n",
    "class A_star():\n",
    "    def __init__(self, root):\n",
    "        self.root = root\n",
    "    \n",
    "    def find_best_path(self):\n",
    "        root.g = 0\n",
    "        root.f = root.g + h(root)\n",
    "        self.closed_list = []\n",
    "        self.open_list = [root]\n",
    "        while len(self.open_list) > 0:\n",
    "            next_node_to_explore = self.open_list.pop(0)\n",
    "            self.closed_list.append(next_node_to_explore)\n",
    "            if next_node_to_explore.is_terminal():\n",
    "                print(\"Result:\", next_node_to_explore)\n",
    "                return \n",
    "            for node_child in next_node_to_explore.succ():\n",
    "                # node_child.g = next_node_to_explore.g + next_node_to_explore.cost(node_child)\n",
    "                node_child.g = node_child.compute_g() #Other method, doesnt work on all Node classes\n",
    "                node_child.f = node_child.g + h(node_child)\n",
    "                self.open_list.append(node_child)\n",
    "            self.open_list.sort(key = lambda node : node.f)\n",
    "            \n",
    "        raise Exception(\"No path from root to a terminal node\")\n",
    "\n",
    "root = Node(graph=tasks)\n",
    "a_star = A_star(root = root)\n",
    "a_star.find_best_path()"
   ]
  },
  {
   "cell_type": "code",
   "execution_count": null,
   "metadata": {},
   "outputs": [],
   "source": []
  }
 ],
 "metadata": {
  "interpreter": {
   "hash": "7e016cbfee4a4a9f8ad68d1216e5f03d3845a8636147ff93c078e6684dcfe1d3"
  },
  "kernelspec": {
   "display_name": "Python 3.9.7 64-bit",
   "language": "python",
   "name": "python3"
  },
  "language_info": {
   "codemirror_mode": {
    "name": "ipython",
    "version": 3
   },
   "file_extension": ".py",
   "mimetype": "text/x-python",
   "name": "python",
   "nbconvert_exporter": "python",
   "pygments_lexer": "ipython3",
   "version": "3.9.7"
  },
  "orig_nbformat": 4
 },
 "nbformat": 4,
 "nbformat_minor": 2
}
