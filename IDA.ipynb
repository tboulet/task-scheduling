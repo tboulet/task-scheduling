{
 "cells": [
  {
   "cell_type": "markdown",
   "metadata": {},
   "source": [
    "# Simple Implementation of IDA*"
   ]
  },
  {
   "cell_type": "markdown",
   "metadata": {},
   "source": [
    "## Dependencies"
   ]
  },
  {
   "cell_type": "code",
   "execution_count": 2,
   "metadata": {},
   "outputs": [],
   "source": [
    "import numpy as np\n",
    "import json\n",
    "from datetime import datetime"
   ]
  },
  {
   "cell_type": "markdown",
   "metadata": {},
   "source": [
    "## Read Data"
   ]
  },
  {
   "cell_type": "code",
   "execution_count": 3,
   "metadata": {},
   "outputs": [],
   "source": [
    "def string2duration(string):\n",
    "    ''' \"01:50:19.3177493\" to duration in seconds'''\n",
    "    date =  datetime.strptime(string.split('.')[0], \"%H:%M:%S\")\n",
    "    return date.second + 60*date.minute + 3600*date.hour"
   ]
  },
  {
   "cell_type": "code",
   "execution_count": 4,
   "metadata": {},
   "outputs": [],
   "source": [
    "def read_data(path):\n",
    "    global task_count\n",
    "    global data\n",
    "    global tasks\n",
    "    file = open(path)\n",
    "    data = json.load(file)\n",
    "    tasks = data['nodes']\n",
    "    for task in tasks:\n",
    "        tasks[task]['Data'] = string2duration(tasks[task]['Data'])\n",
    "    task_count = len(tasks)"
   ]
  },
  {
   "cell_type": "markdown",
   "metadata": {},
   "source": [
    "## Node Class"
   ]
  },
  {
   "cell_type": "code",
   "execution_count": 5,
   "metadata": {},
   "outputs": [],
   "source": [
    "class Node():\n",
    "    def __init__(self, id = '', cost = 0):\n",
    "        self.children = []\n",
    "        self.parents = []\n",
    "        self.id = id\n",
    "        self.cost = cost\n",
    "    \n",
    "    def successors(self):\n",
    "        return sorted(self.children, key=lambda n: h(n))\n",
    "    \n",
    "    def is_goal(self):\n",
    "        return self.id == 'GOAL'"
   ]
  },
  {
   "cell_type": "markdown",
   "metadata": {},
   "source": [
    "## Graph Class"
   ]
  },
  {
   "cell_type": "code",
   "execution_count": 6,
   "metadata": {},
   "outputs": [],
   "source": [
    "class Graph():\n",
    "    def __init__(self, graph):\n",
    "        self.nodes = {}\n",
    "        self.roots = []\n",
    "        self.load(graph)\n",
    "        print(list(self.nodes)[-1])\n",
    "    \n",
    "    def load(self, graph):\n",
    "        for id in graph.keys():\n",
    "            try:\n",
    "                node = self.nodes[id]\n",
    "            except:\n",
    "                node = Node(id, graph[id]['Data'])\n",
    "            \n",
    "            if len(graph[id]['Dependencies']) == 0:\n",
    "                node.isTerminal = False\n",
    "                self.roots.append(node)\n",
    "            else:\n",
    "                for parent in graph[id]['Dependencies']:\n",
    "                    try:\n",
    "                        parent_node = self.nodes[str(parent)]\n",
    "                    except:\n",
    "                        self.nodes[str(parent)] = Node(str(parent), graph[str(parent)]['Data'])\n",
    "                        parent_node = self.nodes[str(parent)]\n",
    "                        \n",
    "                    parent_node.children.append(node)\n",
    "                    node.parents.append(parent_node)\n",
    "\n",
    "            self.nodes[id] = node"
   ]
  },
  {
   "cell_type": "markdown",
   "metadata": {},
   "source": [
    "## Heuristic"
   ]
  },
  {
   "cell_type": "code",
   "execution_count": 7,
   "metadata": {},
   "outputs": [],
   "source": [
    "def h(n):\n",
    "    return 1"
   ]
  },
  {
   "cell_type": "markdown",
   "metadata": {},
   "source": [
    "## Search"
   ]
  },
  {
   "cell_type": "code",
   "execution_count": 8,
   "metadata": {},
   "outputs": [],
   "source": [
    "def search(path, g, bound, goal):\n",
    "    node = path[-1]\n",
    "    f = g + h(node)\n",
    "    if f > bound:\n",
    "        return f\n",
    "    if node.id == goal:\n",
    "        return [node.id]\n",
    "    minimum = np.inf\n",
    "    for succ in node.successors():\n",
    "        if succ not in path:\n",
    "            path.append(succ)\n",
    "            t = search(path, g + succ.cost, bound, goal)\n",
    "            if isinstance(t, list):\n",
    "                return [node.id] + t\n",
    "            elif t < minimum:\n",
    "                minimum = t\n",
    "            path.pop()\n",
    "    return minimum"
   ]
  },
  {
   "cell_type": "markdown",
   "metadata": {},
   "source": [
    "## IDA*"
   ]
  },
  {
   "cell_type": "code",
   "execution_count": 9,
   "metadata": {},
   "outputs": [],
   "source": [
    "def ida_star(root, goal):\n",
    "    bound = np.inf\n",
    "    path = [root]\n",
    "    t = search(path, root.cost, bound, goal)\n",
    "    if isinstance(t, list):\n",
    "        return t\n",
    "    return 'Not found'"
   ]
  },
  {
   "cell_type": "markdown",
   "metadata": {},
   "source": [
    "## Load Data"
   ]
  },
  {
   "cell_type": "code",
   "execution_count": 10,
   "metadata": {},
   "outputs": [],
   "source": [
    "read_data(\"Graphs/smallComplex.json\")"
   ]
  },
  {
   "cell_type": "markdown",
   "metadata": {},
   "source": [
    "## Load Graph"
   ]
  },
  {
   "cell_type": "code",
   "execution_count": 11,
   "metadata": {},
   "outputs": [
    {
     "name": "stdout",
     "output_type": "stream",
     "text": [
      "3538\n"
     ]
    }
   ],
   "source": [
    "graph = Graph(tasks)"
   ]
  },
  {
   "cell_type": "markdown",
   "metadata": {},
   "source": [
    "## Launch IDA*"
   ]
  },
  {
   "cell_type": "code",
   "execution_count": 12,
   "metadata": {},
   "outputs": [
    {
     "name": "stdout",
     "output_type": "stream",
     "text": [
      "['2365', '3532', '3538']\n"
     ]
    }
   ],
   "source": [
    "path = ida_star(graph.roots[0], '3538')\n",
    "print(path)"
   ]
  }
 ],
 "metadata": {
  "interpreter": {
   "hash": "69cf9839690728ef7ab10dcb5f4b78192faf9c3916570632a7583891615174d5"
  },
  "kernelspec": {
   "display_name": "Python 3.8.12 ('cs2021')",
   "language": "python",
   "name": "python3"
  },
  "language_info": {
   "codemirror_mode": {
    "name": "ipython",
    "version": 3
   },
   "file_extension": ".py",
   "mimetype": "text/x-python",
   "name": "python",
   "nbconvert_exporter": "python",
   "pygments_lexer": "ipython3",
   "version": "3.9.10"
  },
  "orig_nbformat": 4
 },
 "nbformat": 4,
 "nbformat_minor": 2
}
