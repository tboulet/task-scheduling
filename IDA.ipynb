{
 "cells": [
  {
   "cell_type": "markdown",
   "metadata": {},
   "source": [
    "# Implementation of IDA*"
   ]
  },
  {
   "cell_type": "markdown",
   "metadata": {},
   "source": [
    "## Dependencies"
   ]
  },
  {
   "cell_type": "code",
   "execution_count": 53,
   "metadata": {},
   "outputs": [
    {
     "name": "stdout",
     "output_type": "stream",
     "text": [
      "The snakeviz extension is already loaded. To reload it, use:\n",
      "  %reload_ext snakeviz\n"
     ]
    }
   ],
   "source": [
    "%load_ext snakeviz\n",
    "import numpy as np\n",
    "import pandas as pd\n",
    "import json\n",
    "from datetime import datetime\n",
    "from copy import deepcopy\n",
    "import bisect\n",
    "from collections import defaultdict\n",
    "from itertools import cycle\n",
    "from typing import Dict, Tuple\n",
    "import matplotlib.pyplot as plt\n",
    "import random"
   ]
  },
  {
   "cell_type": "markdown",
   "metadata": {},
   "source": [
    "## Utils"
   ]
  },
  {
   "cell_type": "code",
   "execution_count": 54,
   "metadata": {},
   "outputs": [],
   "source": [
    "def n2letter(n):\n",
    "    '''0 to 'a', 1 to 'b', ... '''\n",
    "    return str(n)\n",
    "    \n",
    "def string2duration(string):\n",
    "    ''' \"01:50:19.3177493\" to duration in seconds'''\n",
    "    date =  datetime.strptime(string.split('.')[0], \"%H:%M:%S\")\n",
    "    return date.second + 60*date.minute + 3600*date.hour"
   ]
  },
  {
   "cell_type": "markdown",
   "metadata": {},
   "source": [
    "## Read Data"
   ]
  },
  {
   "cell_type": "code",
   "execution_count": 55,
   "metadata": {},
   "outputs": [],
   "source": [
    "def read_data(path):\n",
    "    file = open(path)\n",
    "    data = json.load(file)\n",
    "    nodes = data['nodes']\n",
    "    tasks = dict()\n",
    "    for task_str, info in nodes.items():\n",
    "        task = int(task_str)\n",
    "        tasks[task] = {'Data' : string2duration(info['Data']), 'Dependencies' : info['Dependencies']}\n",
    "    task_count = len(tasks)\n",
    "    print(\"Data loaded successfully. Number of tasks: \" + str(task_count))\n",
    "    return tasks, task_count"
   ]
  },
  {
   "cell_type": "markdown",
   "metadata": {},
   "source": [
    "## Dependencies"
   ]
  },
  {
   "cell_type": "code",
   "execution_count": 56,
   "metadata": {},
   "outputs": [],
   "source": [
    "def load_dependencies(tasks):\n",
    "    #Tasks to child tasks / Tasks to parents / Task is terminal / Task is inital\n",
    "    task2childs = {task : list() for task in tasks}\n",
    "    task2parents = {task : list() for task in tasks}\n",
    "    for task, info in tasks.items():\n",
    "        #Add childs\n",
    "        list_task_parents = info['Dependencies']\n",
    "        for task_parent in list_task_parents:\n",
    "            task2childs[task_parent].append(task)\n",
    "        #Add parents\n",
    "        task2parents[task] = tasks[task]['Dependencies']\n",
    "    \n",
    "    return task2childs, task2parents\n",
    "    \n",
    "def task_is_terminal(task, task2childs):\n",
    "    return len(task2childs[task]) == 0\n",
    "def task_is_inital(task, task2parents):\n",
    "    return len(task2parents[task]) == 0"
   ]
  },
  {
   "cell_type": "markdown",
   "metadata": {},
   "source": [
    "## Static Bottom Level"
   ]
  },
  {
   "cell_type": "code",
   "execution_count": 57,
   "metadata": {},
   "outputs": [],
   "source": [
    "def save_static_bottom_level(task, tasks, task2childs, task2sbl):\n",
    "    task_duration = tasks[task][\"Data\"]\n",
    "    if task_is_terminal(task, task2childs):\n",
    "        sbl = task_duration\n",
    "    else:\n",
    "        list_sbl_child = list()\n",
    "        for task_child in task2childs[task]:\n",
    "            if task_child in task2sbl:\n",
    "                sbl_child = task2sbl[task_child]\n",
    "            else:\n",
    "                sbl_child = save_static_bottom_level(task_child, tasks, task2childs, task2sbl)\n",
    "            list_sbl_child.append(sbl_child)\n",
    "        sbl = max(list_sbl_child) + task_duration\n",
    "                \n",
    "    task2sbl[task] = sbl\n",
    "    return sbl"
   ]
  },
  {
   "cell_type": "markdown",
   "metadata": {},
   "source": [
    "## Calculate sbl"
   ]
  },
  {
   "cell_type": "code",
   "execution_count": 58,
   "metadata": {},
   "outputs": [],
   "source": [
    "def sbl(tasks, task2childs, task2parents):\n",
    "    task2sbl = {}\n",
    "    for task in tasks:\n",
    "        if task_is_inital(task, task2parents):\n",
    "            save_static_bottom_level(task, tasks, task2childs, task2sbl)\n",
    "    return task2sbl"
   ]
  },
  {
   "cell_type": "markdown",
   "metadata": {},
   "source": [
    "## Node Class"
   ]
  },
  {
   "cell_type": "code",
   "execution_count": 59,
   "metadata": {},
   "outputs": [],
   "source": [
    "class Node():\n",
    "    def __init__(self, n_cores, parent = None, task_to_add = None, core_where_to_add = None, time_task_start = None, task_end_time = None):\n",
    "        '''Create a Node object ie a partial scheduling\n",
    "        parent = parent Node, None if root\n",
    "        task_to_add : task added to the partial schedule\n",
    "        core_where_to_add : core where to do task\n",
    "        time_task_start : instant where the core will start computing the task\n",
    "        '''   \n",
    "\n",
    "        if parent is None:\n",
    "            self.parent = None\n",
    "            self.tasks_done_time = dict()\n",
    "            self.g = 0\n",
    "            self.cores = {core_n : {\"task\" : -1, \"task_end_time\" : 0} for core_n in range(n_cores)}\n",
    "            self.hist = ''  \n",
    "            self.schedule = dict()\n",
    "            \n",
    "        else:\n",
    "            self.parent = parent\n",
    "            task_end_time = task_end_time\n",
    "            self.tasks_done_time = parent.tasks_done_time.copy()\n",
    "            self.tasks_done_time[task_to_add] = task_end_time\n",
    "\n",
    "            self.cores = parent.cores.copy()\n",
    "            self.cores[core_where_to_add] = {\"task\" : task_to_add, \"task_end_time\" : task_end_time}\n",
    "                \n",
    "            self.g = max(parent.g, task_end_time)\n",
    "            \n",
    "            self.schedule = parent.schedule.copy()\n",
    "            self.schedule[task_to_add] = (time_task_start, task_end_time, core_where_to_add)\n",
    "            self.hist = parent.hist + f\"|Task {task_to_add} start at time {time_task_start} on core {core_where_to_add} \"\n",
    "                 \n",
    "    def __repr__(self):\n",
    "        string = '[' + ','.join([n2letter(task) for task in self.tasks_done_time]) + ']'\n",
    "        string += ''.join([f\"({core['task']} end at {core['task_end_time']})\" for core in self.cores.values()])\n",
    "        return string    \n",
    "    \n",
    "    #Node-schedule method\n",
    "    def __lt__(self, node):\n",
    "        return self.f < node.f\n",
    "    \n",
    "    def __hash__(self):\n",
    "        return int(self.f)\n",
    "        \n",
    "    def set_of_core(self):\n",
    "        return set([core[\"task_end_time\"] for core in self.cores.values()])\n",
    "    \n",
    "    def compute_g(self):\n",
    "        return max([core[\"task_end_time\"] for core in self.cores.values()])"
   ]
  },
  {
   "cell_type": "markdown",
   "metadata": {},
   "source": [
    "## Graph Class"
   ]
  },
  {
   "cell_type": "code",
   "execution_count": 60,
   "metadata": {},
   "outputs": [],
   "source": [
    "class Graph:\n",
    "    def __init__(self, path, n_cores = 2, alpha = 1):\n",
    "        self.tasks, self.task_count = read_data(path) \n",
    "        self.tasks_to_child, self.tasks_to_parent = load_dependencies(self.tasks)\n",
    "        self.tasks_to_sbl = sbl(self.tasks, self.tasks_to_child, self.tasks_to_parent)\n",
    "        self.n_cores = n_cores\n",
    "        self.alpha = alpha\n",
    "        self.root = Node(n_cores)\n",
    "    \n",
    "    def equal(self, node1, node2):\n",
    "        '''Return whether a node is equal to another. Two nodes are considered equal if they have completed the same tasks and if all their cores stop working at same time.\n",
    "        '''\n",
    "        if node1.g != node2.g:\n",
    "            return False       \n",
    "        if node1.tasks_done_time != node2.tasks_done_time:\n",
    "            return False\n",
    "        return node1.set_of_core() == node2.set_of_core()\n",
    "\n",
    "    def cost(self, current, next):\n",
    "        '''Return the cost of going from self to child_node, a child node of self\n",
    "        '''\n",
    "        res = next.g - current.g\n",
    "        if res < 0:\n",
    "            raise Exception(\"Cost difference is negative\")\n",
    "        return res\n",
    "    \n",
    "    def is_solved(self, node):\n",
    "        '''Return whether a node is a full schedule'''\n",
    "        return (len(node.tasks_done_time) == self.task_count)\n",
    "    \n",
    "    def h(self, node):\n",
    "        '''Estimated remaining time of the node-schedule for reaching a terminal node. Must understimate true value.'''\n",
    "        maximum = 0\n",
    "        for task, info in self.tasks.items():\n",
    "            if task in node.tasks_done_time: #On passe les taches déjà ajoutées\n",
    "                continue\n",
    "            if not all([task_required in node.tasks_done_time for task_required in info['Dependencies']]):   #On ne garde que les taches dont toutes les dépendances ont été réalisées\n",
    "                continue\n",
    "            if self.tasks_to_sbl[task] > maximum:\n",
    "                maximum = self.tasks_to_sbl[task]\n",
    "\n",
    "        return self.alpha*maximum\n",
    "    \n",
    "    def n_successors(self, node):\n",
    "        return len(self.successors(node))\n",
    "    \n",
    "    def successor(self, node, i, fast):\n",
    "        if fast:\n",
    "            return sorted(self.successors(node), key = lambda n: n.g)[i]\n",
    "        return sorted(self.successors(node), key = lambda n: n.g + self.h(n))[i]\n",
    "    \n",
    "    def successors(self, node):\n",
    "        childs = list()\n",
    "        #On regarde toutes les tâches qu'on va tenter de rajouter\n",
    "        for task, info in self.tasks.items():\n",
    "            \n",
    "            #On passe les taches déjà ajoutées\n",
    "            if task in node.tasks_done_time: \n",
    "                continue\n",
    "            \n",
    "            #On ne garde que les taches dont toutes les dépendances ont été réalisées\n",
    "            if not all([task_required in node.tasks_done_time for task_required in info['Dependencies']]): \n",
    "                continue\n",
    "            \n",
    "            #On calcul le temps ou toutes les dépendances de task seront terminés par les coeurs   \n",
    "            time_all_tasks_done = max([0] + [node.tasks_done_time[task_required] for task_required in info['Dependencies']])\n",
    "                                         \n",
    "            for core_n, core in node.cores.items():\n",
    "                #On ne commence à faire la task que lorsque toutes les dépendances sont calculées et que le core est disponible.\n",
    "                time_core_available = core[\"task_end_time\"]\n",
    "                time_task_start = max(time_all_tasks_done, time_core_available)\n",
    "                task_end_time = time_task_start + self.tasks[task]['Data']\n",
    "                child = Node(n_cores = self.n_cores, parent = node, task_to_add=task, core_where_to_add=core_n, time_task_start=time_task_start, task_end_time=task_end_time)    \n",
    "                childs.append(child)\n",
    "                \n",
    "        return childs\n",
    "    \n",
    "    def best_time(self):\n",
    "        task_df = pd.DataFrame.from_dict(self.tasks_to_sbl, orient='index', columns=['sbl'])\n",
    "        best_time = task_df['sbl'].max()\n",
    "        return best_time\n",
    "    "
   ]
  },
  {
   "cell_type": "markdown",
   "metadata": {},
   "source": [
    "## Recul"
   ]
  },
  {
   "cell_type": "code",
   "execution_count": 61,
   "metadata": {},
   "outputs": [],
   "source": [
    "def step_back(graph, node, bound, depth, fast):\n",
    "    stack = [node]\n",
    "    indexes = [0]\n",
    "    minimum = np.inf\n",
    "    best = node\n",
    "    while (len(stack)):\n",
    "        current = stack[-1]\n",
    "        index = indexes[-1]\n",
    "\n",
    "        if fast:\n",
    "            f = current.g + graph.h(current)\n",
    "        else:\n",
    "            f = current.g\n",
    "\n",
    "        if len(stack) == depth:\n",
    "            if f < minimum:\n",
    "                minimum = f\n",
    "                best = current\n",
    "        \n",
    "        if f > bound:\n",
    "            stack.pop()\n",
    "            indexes.pop()\n",
    "            continue\n",
    "\n",
    "        if graph.is_solved(current):\n",
    "            if current.g < minimum:\n",
    "                minimum = current.g\n",
    "                best = current\n",
    "\n",
    "        if index >= graph.n_successors(current):\n",
    "            stack.pop()\n",
    "            indexes.pop()\n",
    "            continue\n",
    "        \n",
    "        succ = graph.successor(current, index, fast)\n",
    "        indexes[-1] = index + 1\n",
    "        stack.append(succ)\n",
    "        indexes.append(0)\n",
    "    \n",
    "    return best"
   ]
  },
  {
   "cell_type": "markdown",
   "metadata": {},
   "source": [
    "## Search"
   ]
  },
  {
   "cell_type": "code",
   "execution_count": 62,
   "metadata": {},
   "outputs": [],
   "source": [
    "def search(graph, stack, bound, recul, depth, fast):\n",
    "    indexes = [0]\n",
    "    while (len(stack)):\n",
    "        node = stack[-1]\n",
    "        index = indexes[-1]\n",
    "        if fast:\n",
    "            f = node.g\n",
    "        else:\n",
    "            f = node.g + graph.h(node)\n",
    "\n",
    "        if f > bound:\n",
    "            stack.pop()\n",
    "            indexes.pop()\n",
    "            continue\n",
    "\n",
    "        if graph.is_solved(node):\n",
    "            return step_back(graph, stack[-recul], bound, depth, fast)\n",
    "        \n",
    "        if len(stack) == depth:\n",
    "            return node\n",
    "\n",
    "        if index >= graph.n_successors(node):\n",
    "            stack.pop()\n",
    "            indexes.pop()\n",
    "            continue\n",
    "        \n",
    "        succ = graph.successor(node, index, fast)\n",
    "        indexes[-1] = index + 1\n",
    "        stack.append(succ)\n",
    "        indexes.append(0)\n",
    "    \n",
    "    return False"
   ]
  },
  {
   "cell_type": "markdown",
   "metadata": {},
   "source": [
    "## IDA*"
   ]
  },
  {
   "cell_type": "code",
   "execution_count": 63,
   "metadata": {},
   "outputs": [],
   "source": [
    "def ida_star(graph, recul = 1, limit = np.inf, depth = np.inf, fast = True):\n",
    "    bound = limit*graph.alpha\n",
    "    stack = [graph.root]\n",
    "    t = search(graph, stack, bound, recul + 1, depth, fast)\n",
    "    if isinstance(t, Node):\n",
    "        print('Done')\n",
    "        return t\n",
    "    print('Not found')\n",
    "    return None"
   ]
  },
  {
   "cell_type": "markdown",
   "metadata": {},
   "source": [
    "## Visualization"
   ]
  },
  {
   "cell_type": "code",
   "execution_count": 64,
   "metadata": {},
   "outputs": [],
   "source": [
    "def cycle(lst: list[str]):\n",
    "    x = lst.pop(0)\n",
    "    lst.append(x)\n",
    "    return x\n",
    "\n",
    "def plot_schedule(node, critical_path=[]):\n",
    "    schedule = node.schedule\n",
    "    colors_by_proc = defaultdict(lambda:\n",
    "        ['tab:blue', 'tab:orange', 'tab:green', 'tab:purple', 'tab:brown', 'tab:pink', 'tab:gray', 'tab:olive', 'tab:cyan'])\n",
    "    for id, (start, end, proc) in schedule.items():\n",
    "        # cycle through the colors for this processor\n",
    "        color = cycle(colors_by_proc[proc])\n",
    "        colors_by_proc[proc].append(color)\n",
    "        \n",
    "        # handle critical path nodes\n",
    "        if id in critical_path:\n",
    "            critical_kwargs = {\n",
    "                'edgecolor': 'red',\n",
    "                'lw': 2,\n",
    "                'zorder': 100,\n",
    "            }\n",
    "        else:\n",
    "            critical_kwargs = {}\n",
    "        \n",
    "        # blot the bar and text\n",
    "        plt.broken_barh([(start, end-start)],\n",
    "                        (proc-.4, .8),\n",
    "                        facecolors=color,\n",
    "                        **critical_kwargs)\n",
    "        plt.annotate(str(id),\n",
    "                        xy=((start+end)/2, proc),\n",
    "                        ha='center',\n",
    "                        va='center',\n",
    "                        zorder=101)\n",
    "    plt.yticks(list(colors_by_proc.keys()), [f'Proc {proc}' for proc in colors_by_proc.keys()])\n",
    "    plt.tight_layout()"
   ]
  },
  {
   "cell_type": "markdown",
   "metadata": {},
   "source": [
    "## Verification"
   ]
  },
  {
   "cell_type": "code",
   "execution_count": 65,
   "metadata": {},
   "outputs": [],
   "source": [
    "def verify(graph, node):\n",
    "    solution_df = pd.DataFrame.from_dict(node.schedule, orient='index', columns=['start', 'end', 'core'])\n",
    "    score = solution_df['end'].max()\n",
    "    bestscore = graph.best_time()\n",
    "    if  bestscore > score:\n",
    "        return False\n",
    "\n",
    "    for task in solution_df.index:\n",
    "        for parent in graph.tasks[task]['Dependencies']:\n",
    "            if solution_df.loc[parent]['end'] > solution_df.loc[task]['start']:\n",
    "                return False\n",
    "    print(score, bestscore)\n",
    "    return (100*(score - bestscore)/bestscore)"
   ]
  },
  {
   "cell_type": "markdown",
   "metadata": {},
   "source": [
    "## Launch IDA*"
   ]
  },
  {
   "cell_type": "code",
   "execution_count": 66,
   "metadata": {},
   "outputs": [
    {
     "name": "stdout",
     "output_type": "stream",
     "text": [
      "Data loaded successfully. Number of tasks: 1750\n",
      "Done\n"
     ]
    }
   ],
   "source": [
    "graph = Graph('Graphs/smallComplex.json', 6, 1)\n",
    "final_node = ida_star(graph, recul = 1, limit = graph.best_time()*2, fast = False)"
   ]
  },
  {
   "cell_type": "markdown",
   "metadata": {},
   "source": [
    "## Visualize"
   ]
  },
  {
   "cell_type": "code",
   "execution_count": 67,
   "metadata": {},
   "outputs": [
    {
     "data": {
      "image/png": "[encoded data removed]",
      "text/plain": [
       "<Figure size 432x288 with 1 Axes>"
      ]
     },
     "metadata": {
      "needs_background": "light"
     },
     "output_type": "display_data"
    }
   ],
   "source": [
    "plot_schedule(final_node)"
   ]
  },
  {
   "cell_type": "markdown",
   "metadata": {},
   "source": [
    "## Verify Solution"
   ]
  },
  {
   "cell_type": "code",
   "execution_count": 68,
   "metadata": {},
   "outputs": [
    {
     "name": "stdout",
     "output_type": "stream",
     "text": [
      "1640438 1458208\n"
     ]
    },
    {
     "data": {
      "text/plain": [
       "12.496845443174088"
      ]
     },
     "execution_count": 68,
     "metadata": {},
     "output_type": "execute_result"
    }
   ],
   "source": [
    "verify(graph, final_node)"
   ]
  },
  {
   "cell_type": "markdown",
   "metadata": {},
   "source": [
    "## Stats"
   ]
  },
  {
   "cell_type": "code",
   "execution_count": 69,
   "metadata": {},
   "outputs": [],
   "source": [
    "def stats():\n",
    "    import cProfile\n",
    "    import pstats\n",
    "\n",
    "    graph = Graph('Graphs/xsmallComplex.json', 6, 1)\n",
    "\n",
    "    with cProfile.Profile() as pr:\n",
    "        final_node = ida_star(graph, recul=3, limit=graph.best_time()*2, fast=True)\n",
    "\n",
    "    stats = pstats.Stats(pr)\n",
    "    stats.sort_stats(pstats.SortKey.TIME)\n",
    "    stats.dump_stats(filename='profiling.prof')"
   ]
  },
  {
   "cell_type": "markdown",
   "metadata": {},
   "source": [
    "## Single Branch"
   ]
  },
  {
   "cell_type": "code",
   "execution_count": 70,
   "metadata": {},
   "outputs": [],
   "source": [
    "def single(graph):\n",
    "    node = graph.root\n",
    "    t = 0\n",
    "    while not graph.is_solved(node):\n",
    "        node = graph.successor(node, 0)\n",
    "        t += 1\n",
    "        if t % 422 == 0:\n",
    "            print(100*t/42241)\n",
    "    return verify(node)"
   ]
  }
 ],
 "metadata": {
  "interpreter": {
   "hash": "69cf9839690728ef7ab10dcb5f4b78192faf9c3916570632a7583891615174d5"
  },
  "kernelspec": {
   "display_name": "Python 3.8.12 ('cs2021')",
   "language": "python",
   "name": "python3"
  },
  "language_info": {
   "codemirror_mode": {
    "name": "ipython",
    "version": 3
   },
   "file_extension": ".py",
   "mimetype": "text/x-python",
   "name": "python",
   "nbconvert_exporter": "python",
   "pygments_lexer": "ipython3",
   "version": "3.9.7"
  },
  "orig_nbformat": 4
 },
 "nbformat": 4,
 "nbformat_minor": 2
}
