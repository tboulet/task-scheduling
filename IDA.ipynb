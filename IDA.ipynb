{
 "cells": [
  {
   "cell_type": "markdown",
   "metadata": {},
   "source": [
    "# Implementation of IDA*"
   ]
  },
  {
   "cell_type": "markdown",
   "metadata": {},
   "source": [
    "## Dependencies"
   ]
  },
  {
   "cell_type": "code",
   "execution_count": 170,
   "metadata": {},
   "outputs": [],
   "source": [
    "import numpy as np\n",
    "import pandas as pd\n",
    "import json\n",
    "from datetime import datetime\n",
    "from copy import deepcopy\n",
    "import bisect\n",
    "from collections import defaultdict\n",
    "from itertools import cycle\n",
    "from typing import Dict, Tuple\n",
    "import matplotlib.pyplot as plt\n",
    "import random"
   ]
  },
  {
   "cell_type": "markdown",
   "metadata": {},
   "source": [
    "## Constants"
   ]
  },
  {
   "cell_type": "code",
   "execution_count": 171,
   "metadata": {},
   "outputs": [],
   "source": [
    "n_cores = 3\n",
    "alpha = 2"
   ]
  },
  {
   "cell_type": "markdown",
   "metadata": {},
   "source": [
    "## Utils"
   ]
  },
  {
   "cell_type": "code",
   "execution_count": 172,
   "metadata": {},
   "outputs": [],
   "source": [
    "def n2letter(n):\n",
    "    '''0 to 'a', 1 to 'b', ... '''\n",
    "    return str(n)\n",
    "    \n",
    "def string2duration(string):\n",
    "    ''' \"01:50:19.3177493\" to duration in seconds'''\n",
    "    date =  datetime.strptime(string.split('.')[0], \"%H:%M:%S\")\n",
    "    return date.second + 60*date.minute + 3600*date.hour"
   ]
  },
  {
   "cell_type": "markdown",
   "metadata": {},
   "source": [
    "## Read Data"
   ]
  },
  {
   "cell_type": "code",
   "execution_count": 173,
   "metadata": {},
   "outputs": [],
   "source": [
    "def read_data(path):\n",
    "    global task_count\n",
    "    global tasks\n",
    "    file = open(path)\n",
    "    data = json.load(file)\n",
    "    nodes = data['nodes']\n",
    "    tasks = dict()\n",
    "    for task_str, info in nodes.items():\n",
    "        task = int(task_str)\n",
    "        tasks[task] = {'Data' : string2duration(info['Data']), 'Dependencies' : info['Dependencies']}\n",
    "    task_count = len(tasks)\n",
    "    print(\"Data loaded successfully. Number of tasks: \" + str(task_count))"
   ]
  },
  {
   "cell_type": "markdown",
   "metadata": {},
   "source": [
    "## Dependencies"
   ]
  },
  {
   "cell_type": "code",
   "execution_count": 174,
   "metadata": {},
   "outputs": [],
   "source": [
    "def load_dependencies():\n",
    "    global task2childs\n",
    "    global task2parents\n",
    "    #Tasks to child tasks / Tasks to parents / Task is terminal / Task is inital\n",
    "    task2childs = {task : list() for task in tasks}\n",
    "    task2parents = {task : list() for task in tasks}\n",
    "    for task, info in tasks.items():\n",
    "        #Add childs\n",
    "        list_task_parents = info['Dependencies']\n",
    "        for task_parent in list_task_parents:\n",
    "            task2childs[task_parent].append(task)\n",
    "        #Add parents\n",
    "        task2parents[task] = tasks[task]['Dependencies']\n",
    "    \n",
    "def task_is_terminal(task: int):\n",
    "    return len(task2childs[task]) == 0\n",
    "def task_is_inital(task: int):\n",
    "    return len(task2parents[task]) == 0"
   ]
  },
  {
   "cell_type": "markdown",
   "metadata": {},
   "source": [
    "## Static Bottom Level"
   ]
  },
  {
   "cell_type": "code",
   "execution_count": 175,
   "metadata": {},
   "outputs": [],
   "source": [
    "def save_static_bottom_level(task : int, task2sbl):\n",
    "    task_duration = tasks[task][\"Data\"]\n",
    "    if task_is_terminal(task):\n",
    "        sbl = task_duration\n",
    "    else:\n",
    "        list_sbl_child = list()\n",
    "        for task_child in task2childs[task]:\n",
    "            if task_child in task2sbl:\n",
    "                sbl_child = task2sbl[task_child]\n",
    "            else:\n",
    "                sbl_child = save_static_bottom_level(task_child, task2sbl)\n",
    "            list_sbl_child.append(sbl_child)\n",
    "        sbl = max(list_sbl_child) + task_duration\n",
    "                \n",
    "    task2sbl[task] = sbl\n",
    "    return sbl"
   ]
  },
  {
   "cell_type": "markdown",
   "metadata": {},
   "source": [
    "## Calculate sbl"
   ]
  },
  {
   "cell_type": "code",
   "execution_count": 176,
   "metadata": {},
   "outputs": [],
   "source": [
    "def sbl():\n",
    "    global task2sbl\n",
    "    task2sbl = {}\n",
    "    for task in tasks:\n",
    "        if task_is_inital(task):\n",
    "            save_static_bottom_level(task, task2sbl)"
   ]
  },
  {
   "cell_type": "markdown",
   "metadata": {},
   "source": [
    "## Graph Class"
   ]
  },
  {
   "cell_type": "code",
   "execution_count": 177,
   "metadata": {},
   "outputs": [],
   "source": [
    "class Graph:\n",
    "    def __init__(self):\n",
    "        self.tasks = tasks\n",
    "        self.tasks_to_sbl = task2sbl\n",
    "        self.tasks_to_parent = task2parents\n",
    "        self.tasks_to_child = task2childs\n",
    "        self.n_cores = n_cores\n",
    "        self.nodes = list()"
   ]
  },
  {
   "cell_type": "markdown",
   "metadata": {},
   "source": [
    "## Node Class"
   ]
  },
  {
   "cell_type": "code",
   "execution_count": 178,
   "metadata": {},
   "outputs": [],
   "source": [
    "class Node():\n",
    "    def __init__(self, graph = None,  parent = None, task_to_add = None, core_where_to_add = None, time_task_start = None):\n",
    "        '''Create a Node object ie a partial scheduling\n",
    "        parent = parent Node, None if root\n",
    "        task_to_add : task added to the partial schedule\n",
    "        core_where_to_add : core where to do task\n",
    "        time_task_start : instant where the core will start computing the task\n",
    "        '''   \n",
    "\n",
    "        if parent is None:\n",
    "            self.parent = None\n",
    "            self.graph = graph\n",
    "            self.tasks_done_time = dict()\n",
    "            self.cores = {core_n : {\"task\" : -1, \"task_end_time\" : 0} for core_n in range(n_cores)}\n",
    "            \n",
    "            self.g = 0\n",
    "            self.f = self.h()\n",
    "                   \n",
    "            self.hist = ''  \n",
    "            self.schedule = dict()\n",
    "            \n",
    "        else:\n",
    "            self.parent = parent\n",
    "            if graph:\n",
    "                self.graph = graph\n",
    "            else:\n",
    "                self.graph = self.parent.graph\n",
    "            task_end_time = time_task_start + self.graph.tasks[task_to_add]['Data']\n",
    "            self.tasks_done_time = parent.tasks_done_time.copy()\n",
    "            self.tasks_done_time[task_to_add] = task_end_time\n",
    "\n",
    "            self.cores = parent.cores.copy()\n",
    "            self.cores[core_where_to_add] = {\"task\" : task_to_add, \"task_end_time\" : task_end_time}\n",
    "                \n",
    "            self.g = max(parent.g, task_end_time)\n",
    "            # self.f = max(self.g + self.h(), parent.f)\n",
    "            self.f = self.g + self.h()\n",
    "            \n",
    "            self.schedule = parent.schedule.copy()\n",
    "            self.schedule[task_to_add] = (time_task_start, task_end_time, core_where_to_add)\n",
    "            self.hist = parent.hist + f\"|Task {task_to_add} start at time {time_task_start} on core {core_where_to_add} \"\n",
    "                 \n",
    "    def __repr__(self):\n",
    "        string = '[' + ','.join([n2letter(task) for task in self.tasks_done_time]) + ']'\n",
    "        string += ''.join([f\"({core['task']} end at {core['task_end_time']})\" for core in self.cores.values()])\n",
    "        return string\n",
    "    \n",
    "    def is_solved(self):\n",
    "        '''Return whether a node is a full schedule'''\n",
    "        return len(self.tasks_done_time) == task_count\n",
    "    \n",
    "    def successors(self):                     \n",
    "        '''Create and return list of child node of self'''\n",
    "        childs = list()\n",
    "        \n",
    "        #On regarde toutes les tâches qu'on va tenter de rajouter\n",
    "        for task, info in self.graph.tasks.items():\n",
    "            \n",
    "            #On passe les taches déjà ajoutées\n",
    "            if task in self.tasks_done_time: \n",
    "                continue\n",
    "            \n",
    "            #On ne garde que les taches dont toutes les dépendances ont été réalisées\n",
    "            if not all([task_required in self.tasks_done_time for task_required in info['Dependencies']]): \n",
    "                continue\n",
    "            \n",
    "            #On calcul le temps ou toutes les dépendances de task seront terminés par les coeurs   \n",
    "            time_all_tasks_done = max([0] + [self.tasks_done_time[task_required] for task_required in info['Dependencies']])\n",
    "                                         \n",
    "            for core_n, core in self.cores.items():\n",
    "                #On ne commence à faire la task que lorsque toutes les dépendances sont calculées et que le core est disponible.\n",
    "                time_core_available = core[\"task_end_time\"]\n",
    "                time_task_start = max(time_all_tasks_done, time_core_available)\n",
    "                \n",
    "                child = Node(parent = self, task_to_add=task, core_where_to_add=core_n, time_task_start=time_task_start)    \n",
    "                childs.append(child)\n",
    "                \n",
    "        return sorted(childs, key = lambda node: node.f)\n",
    "        \n",
    "    def cost(self, child_node):\n",
    "        '''Return the cost of going from self to child_node, a child node of self\n",
    "        '''\n",
    "        res = child_node.g - self.g\n",
    "        if res < 0:\n",
    "            raise Exception(\"Cost difference is negative\")\n",
    "        return res\n",
    "    \n",
    "    def h(self):\n",
    "        '''Estimated remaining time of the node-schedule for reaching a terminal node. Must understimate true value.\n",
    "        '''\n",
    "        successor_tasks = list()\n",
    "        for task, info in self.graph.tasks.items():\n",
    "            if task in self.tasks_done_time: #On passe les taches déjà ajoutées\n",
    "                continue\n",
    "            if not all([task_required in self.tasks_done_time for task_required in info['Dependencies']]):   #On ne garde que les taches dont toutes les dépendances ont été réalisées\n",
    "                continue\n",
    "            successor_tasks.append(task)\n",
    "        if len(successor_tasks) == 0:\n",
    "            return 0\n",
    "        return alpha*max([self.graph.tasks_to_sbl[task] for task in successor_tasks])\n",
    "        \n",
    "    \n",
    "    #Node-schedule method\n",
    "    def __lt__(self, node):\n",
    "        return self.f < node.f\n",
    "    \n",
    "    def __hash__(self):\n",
    "        return int(self.f)\n",
    "        \n",
    "    def __eq__(self, node):\n",
    "        '''Return whether a node is equal to another. Two nodes are considered equal if they have completed the same tasks and if all their cores stop working at same time.\n",
    "        '''\n",
    "        if self.g != node.g:\n",
    "            return False       \n",
    "        if self.tasks_done_time != node.tasks_done_time:\n",
    "            return False\n",
    "        return self.set_of_core() == node.set_of_core()\n",
    "        \n",
    "    def set_of_core(self):\n",
    "        return set([core[\"task_end_time\"] for core in self.cores.values()])\n",
    "    \n",
    "    def compute_g(self):\n",
    "        return max([core[\"task_end_time\"] for core in self.cores.values()])\n",
    "    "
   ]
  },
  {
   "cell_type": "markdown",
   "metadata": {},
   "source": [
    "## Search to goal"
   ]
  },
  {
   "cell_type": "code",
   "execution_count": 179,
   "metadata": {},
   "outputs": [],
   "source": [
    "def search_goal(path, g, bound, goal):\n",
    "    node = path[-1]\n",
    "    f = g + node.h()\n",
    "    if f > bound:\n",
    "        return f\n",
    "    if node == goal:\n",
    "        return node\n",
    "    minimum = np.inf\n",
    "    for succ in node.successors():\n",
    "        if succ not in path:\n",
    "            path.append(succ)\n",
    "            t = search_goal(path, g + node.cost(succ), bound, goal)\n",
    "            if isinstance(t, Node):\n",
    "                return t\n",
    "            elif t < minimum:\n",
    "                minimum = t\n",
    "            path.pop()\n",
    "    return minimum"
   ]
  },
  {
   "cell_type": "markdown",
   "metadata": {},
   "source": [
    "## Search until solved"
   ]
  },
  {
   "cell_type": "code",
   "execution_count": 180,
   "metadata": {},
   "outputs": [],
   "source": [
    "def search_solved(path, g, bound):\n",
    "    node = path[-1]\n",
    "    f = g + node.h()\n",
    "    if f > bound:\n",
    "        return f\n",
    "    if node.is_solved():\n",
    "        best_node = sorted(path[-2].successors(), key = lambda n : n.g)[0]\n",
    "        path[-1] = best_node\n",
    "        return best_node\n",
    "    minimum = np.inf\n",
    "    for succ in node.successors():\n",
    "        if succ not in path:\n",
    "            path.append(succ)\n",
    "            t = search_solved(path, g + node.cost(succ), bound)\n",
    "            if isinstance(t, Node):\n",
    "                return t\n",
    "            elif t < minimum:\n",
    "                minimum = t\n",
    "            path.pop()\n",
    "    return minimum"
   ]
  },
  {
   "cell_type": "markdown",
   "metadata": {},
   "source": [
    "## IDA*"
   ]
  },
  {
   "cell_type": "code",
   "execution_count": 181,
   "metadata": {},
   "outputs": [],
   "source": [
    "def ida_star(root, goal = None):\n",
    "    bound = root.h()*2\n",
    "    path = [root]\n",
    "    if goal:\n",
    "        t = search_goal(path, 0, bound, goal)\n",
    "    else:\n",
    "        t = search_solved(path, 0, bound)\n",
    "    if isinstance(t, Node):\n",
    "        return t\n",
    "    return 'Not found'"
   ]
  },
  {
   "cell_type": "markdown",
   "metadata": {},
   "source": [
    "## Visualization"
   ]
  },
  {
   "cell_type": "code",
   "execution_count": 182,
   "metadata": {},
   "outputs": [],
   "source": [
    "def cycle(lst: list[str]):\n",
    "    x = lst.pop(0)\n",
    "    lst.append(x)\n",
    "    return x\n",
    "\n",
    "def plot_schedule(node, critical_path=[]):\n",
    "    schedule = node.schedule\n",
    "    colors_by_proc = defaultdict(lambda:\n",
    "        ['tab:blue', 'tab:orange', 'tab:green', 'tab:purple', 'tab:brown', 'tab:pink', 'tab:gray', 'tab:olive', 'tab:cyan'])\n",
    "    for id, (start, end, proc) in schedule.items():\n",
    "        # cycle through the colors for this processor\n",
    "        color = cycle(colors_by_proc[proc])\n",
    "        colors_by_proc[proc].append(color)\n",
    "        \n",
    "        # handle critical path nodes\n",
    "        if id in critical_path:\n",
    "            critical_kwargs = {\n",
    "                'edgecolor': 'red',\n",
    "                'lw': 2,\n",
    "                'zorder': 100,\n",
    "            }\n",
    "        else:\n",
    "            critical_kwargs = {}\n",
    "        \n",
    "        # blot the bar and text\n",
    "        plt.broken_barh([(start, end-start)],\n",
    "                        (proc-.4, .8),\n",
    "                        facecolors=color,\n",
    "                        **critical_kwargs)\n",
    "        plt.annotate(str(id),\n",
    "                        xy=((start+end)/2, proc),\n",
    "                        ha='center',\n",
    "                        va='center',\n",
    "                        zorder=101)\n",
    "    plt.yticks(list(colors_by_proc.keys()), [f'Proc {proc}' for proc in colors_by_proc.keys()])\n",
    "    plt.tight_layout()"
   ]
  },
  {
   "cell_type": "markdown",
   "metadata": {},
   "source": [
    "## Verification"
   ]
  },
  {
   "cell_type": "code",
   "execution_count": 183,
   "metadata": {},
   "outputs": [],
   "source": [
    "def verify(node):\n",
    "    solution_df = pd.DataFrame.from_dict(node.schedule, orient='index', columns=['start', 'end', 'core'])\n",
    "    task_df = pd.DataFrame.from_dict(task2sbl, orient='index', columns=['sbl'])\n",
    "    score = solution_df['end'].max()\n",
    "    best_time = task_df['sbl'].max()\n",
    "    if best_time > score:\n",
    "        return False\n",
    "\n",
    "    for task in solution_df.index:\n",
    "        for parent in tasks[task]['Dependencies']:\n",
    "            if solution_df.loc[parent]['end'] > solution_df.loc[task]['start']:\n",
    "                return False\n",
    "\n",
    "    return (100*(score - best_time)/best_time)"
   ]
  },
  {
   "cell_type": "markdown",
   "metadata": {},
   "source": [
    "## Load Data"
   ]
  },
  {
   "cell_type": "code",
   "execution_count": 184,
   "metadata": {},
   "outputs": [
    {
     "name": "stdout",
     "output_type": "stream",
     "text": [
      "Data loaded successfully. Number of tasks: 1181\n"
     ]
    }
   ],
   "source": [
    "read_data(\"Graphs/xsmallComplex.json\")"
   ]
  },
  {
   "cell_type": "markdown",
   "metadata": {},
   "source": [
    "## Launch IDA*"
   ]
  },
  {
   "cell_type": "code",
   "execution_count": 185,
   "metadata": {},
   "outputs": [
    {
     "name": "stdout",
     "output_type": "stream",
     "text": [
      "[919,927,930,931,933,934,915,917,918,920,928,929,932,516,517,518,519,520,525,526,527,521,522,523,524,947,949,957,960,956,958,959,961,954,955,966,969,972,878,880,883,886,892,893,885,887,889,890,891,881,882,884,888,900,291,292,293,294,295,300,301,302,296,297,298,299,1111,1113,1117,1123,1129,1132,1115,1116,1122,1126,1112,1114,1118,1124,1128,1131,1091,1094,1096,1103,1098,1099,1100,511,512,513,514,515,508,509,510,504,505,506,507,528,529,530,531,532,544,580,581,582,1476,1478,1479,1480,1481,1477,1482,1484,1485,1486,1487,1483,1488,1490,1491,1493,1494,1495,1496,1492,1497,1499,1500,1501,1502,1498,1503,1504,1505,1489,1506,1508,1509,1510,1511,1513,1514,1120,545,533,1507,539,1524,1515,1517,1516,1518,1520,1530,1522,1526,1535,1127,546,1092,547,1093,1097,540,541,548,570,583,552,571,553,588,589,572,590,542,543,558,534,535,573,591,554,577,578,536,579,584,555,537,574,556,585,575,557,538,586,549,576,550,551,587,1199,1200,1206,1208,1218,1220,1232,1235,1216,1217,1219,717,718,719,720,721,722,727,728,729,730,723,724,725,726,680,681,682,683,688,689,690,684,685,686,687,1300,1302,1328,1329,1249,1251,1254,1248,1250,1253,691,692,693,700,701,702,694,695,696,697,477,698,478,479,699,703,480,481,482,486,487,488,483,484,485,277,278,279,280,286,287,288,289,290,281,282,283,284,285,423,424,425,426,427,433,434,435,436,437,428,429,430,431,432,438,439,440,446,447,448,441,442,443,444,445,449,450,451,452,489,559,560,561,567,568,569,562,563,564,565,566,905,907,909,906,908,910,911,912,901,902,903,904,935,936,938,940,941,943,944,946,950,962,937,939,942,1013,1453,1014,1023,490,1022,704,1438,1439,1008,1010,1454,705,1440,706,1322,711,1441,712,1442,713,714,1446,1447,453,454,458,715,1449,716,1443,707,459,708,1444,460,709,1445,1448,710,461,462,811,1382,812,1372,1385,813,1391,1398,814,815,463,1400,816,1401,731,820,1402,1403,455,821,456,1386,822,817,457,464,732,465,818,1388,819,1393,1394,466,1396,1011,1012,1399,1271,745,1273,1015,746,1276,747,1278,472,1282,754,1289,755,473,474,756,1283,757,748,1286,749,1290,475,476,467,1455,1462,750,1293,751,1296,1463,1297,752,1272,1527,753,1274,773,1275,774,733,775,1277,739,740,741,847,1223,776,1224,1225,777,797,1521,1226,781,782,798,1228,783,1231,1234,799,784,1237,800,1221,785,1222,801,808,1236,778,809,1238,810,802,779,1188,1464,1456,1190,780,328,329,1194,945,742,743,1533,948,1323,1532,803,804,1324,1512,1334,1528,1239,1024,1335,1240,1027,1337,1025,758,330,805,1026,759,1030,760,1031,761,768,331,1032,1033,332,338,848,806,769,339,807,1469,849,1039,770,340,771,1041,850,1471,851,344,772,762,856,857,763,858,1379,859,764,765,1474,341,468,345,1465,342,469,470,1467,343,860,333,852,334,853,1470,854,1466,1468,855,1472,346,471,766,347,1473,767,1475,1252,1420,1421,1255,335,238,1256,1044,786,239,1047,240,787,241,351,336,1279,823,337,352,1051,242,353,354,963,355,824,1280,964,1054,273,825,1288,356,965,1055,274,348,349,350,1056,1057,399,1058,371,400,401,788,1298,826,967,275,789,790,830,1299,831,1281,970,1285,832,276,1059,1291,1294,1284,405,977,406,407,974,975,1052,408,409,833,243,1287,834,1292,1053,835,244,976,827,245,828,246,829,402,794,968,795,971,403,796,791,1061,1295,1301,404,973,1303,1064,247,1065,1404,1405,1408,1410,1411,1406,1407,1409,1412,1413,1414,1415,1416,654,655,656,657,658,664,665,666,659,660,661,662,663,621,622,623,627,628,629,630,631,624,625,626,1066,1067,1073,1075,1079,1068,1069,1085,1087,1074,1076,1081,1082,1084,1119,1121,1125,1130,1133,1134,1139,1140,1142,1144,1135,1136,1137,1138,643,644,645,1380,650,651,1387,652,316,317,318,319,323,324,325,326,327,320,321,322,372,373,378,379,380,381,382,374,375,376,377,491,492,493,499,500,501,502,503,494,495,496,497,498,636,637,638,639,632,633,634,635,640,641,642,667,668,669,670,674,675,676,677,678,679,671,672,673,744,734,735,736,737,738,792,793,1016,1017,1018,1028,1203,1207,1210,1201,1202,1205,1189,1198,1204,1209,1211,1212,1257,1265,1268,1269,1270,1263,1264,1266,1267,836,837,838,844,845,846,839,840,841,842,843,1340,1341,1344,1330,1331,1343,1345,1346,1373,1375,1377,1381,1376,1378,1383,1390,1384,1389,1392,1368,653,1020,1029,1369,646,1371,1021,1042,1422,647,1374,648,1366,649,303,1035,1423,1424,304,1367,305,1370,306,410,411,1037,1040,1427,1241,262,383,263,412,313,413,414,314,420,315,264,307,1242,421,308,1245,422,309,1247,415,1243,310,416,1244,265,417,1246,311,1261,312,418,1262,419,248,1175,1229,249,1230,1178,1233,592,250,1184,1141,1143,593,594,1430,595,1431,596,251,1187,1145,270,252,1181,1148,256,1151,1432,271,272,1183,257,1152,1433,1186,258,266,1153,1177,1180,1185,1434,259,1154,260,987,1155,261,989,253,990,384,254,255,385,991,992,386,357,1004,1005,387,358,1007,388,1009,1043,395,1046,1050,1019,359,601,994,360,996,602,366,1001,603,367,368,1002,604,369,1003,597,370,1006,361,362,984,363,364,985,1347,365,1348,1353,986,1425,267,605,268,1426,606,269,1428,1429,1156,607,1078,1332,988,980,1146,1333,981,982,1147,1149,1080,608,1083,1150,1351,609,1086,1354,616,1336,1088,617,1159,1356,618,619,1338,1357,1339,983,978,620,396,1160,1358,397,398,1161,389,1227,1359,610,611,1077,1089,979,1090,995,1349,1342,999,1350,1174,1000,1355,1179,612,1182,1360,1157,1361,613,614,1158,1171,615,1352,1364,1365,598,390,1523,599,391,392,1519,393,394,1534,1529,1531,1457,1395,1362,1525,1397,1458,1363,1095,600](600 end at 1843054)(1095 end at 1840327)(1363 end at 1836279)\n"
     ]
    }
   ],
   "source": [
    "load_dependencies()\n",
    "sbl()\n",
    "graph = Graph()\n",
    "final_node = ida_star(Node(graph=graph))\n",
    "print(final_node)"
   ]
  },
  {
   "cell_type": "markdown",
   "metadata": {},
   "source": [
    "## Visualize"
   ]
  },
  {
   "cell_type": "code",
   "execution_count": 186,
   "metadata": {},
   "outputs": [
    {
     "data": {
      "image/png": "[encoded data removed]",
      "text/plain": [
       "<Figure size 432x288 with 1 Axes>"
      ]
     },
     "metadata": {
      "needs_background": "light"
     },
     "output_type": "display_data"
    }
   ],
   "source": [
    "plot_schedule(final_node)"
   ]
  },
  {
   "cell_type": "markdown",
   "metadata": {},
   "source": [
    "## Verify Solution"
   ]
  },
  {
   "cell_type": "code",
   "execution_count": 187,
   "metadata": {},
   "outputs": [
    {
     "data": {
      "text/plain": [
       "28.382318727108842"
      ]
     },
     "execution_count": 187,
     "metadata": {},
     "output_type": "execute_result"
    }
   ],
   "source": [
    "verify(final_node)"
   ]
  }
 ],
 "metadata": {
  "interpreter": {
   "hash": "69cf9839690728ef7ab10dcb5f4b78192faf9c3916570632a7583891615174d5"
  },
  "kernelspec": {
   "display_name": "Python 3.8.12 ('cs2021')",
   "language": "python",
   "name": "python3"
  },
  "language_info": {
   "codemirror_mode": {
    "name": "ipython",
    "version": 3
   },
   "file_extension": ".py",
   "mimetype": "text/x-python",
   "name": "python",
   "nbconvert_exporter": "python",
   "pygments_lexer": "ipython3",
   "version": "3.9.10"
  },
  "orig_nbformat": 4
 },
 "nbformat": 4,
 "nbformat_minor": 2
}
